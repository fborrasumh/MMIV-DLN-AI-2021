{
 "cells": [
  {
   "cell_type": "markdown",
   "id": "010fbcbb-cb57-4578-9a01-ef20d4757da3",
   "metadata": {},
   "source": [
    "# Notebooks from the deep learning module of MMIV-DLN-AI-2021"
   ]
  },
  {
   "cell_type": "markdown",
   "id": "c98f5029-1670-4f5d-9f1a-c62905883c75",
   "metadata": {},
   "source": [
    "Here's a list of all the notebooks from the deep learning module in the [course GitHub repository](https://github.com/MMIV-ML/MMIV-DLN-AI-2021). "
   ]
  },
  {
   "cell_type": "markdown",
   "id": "d6ff855e-8c20-4ef3-bd8c-710bffd36edc",
   "metadata": {},
   "source": [
    "## Part 1: What is deep learning?"
   ]
  },
  {
   "cell_type": "markdown",
   "id": "ab10ebdc-4add-4c8e-91b5-a7cb7002e8cd",
   "metadata": {},
   "source": [
    "* [DL-Example-1-image_classification-MedNIST-using-PyTorch.ipynb](./DL-Example-1-image_classification-MedNIST-using-PyTorch.ipynb)\n",
    "* [DL-Example-2-image_classification-MedNIST-MURA-using-fastai.ipynb](./DL-Example-2-image_classification-MedNIST-MURA-using-fastai.ipynb)"
   ]
  },
  {
   "cell_type": "markdown",
   "id": "775bb72f-a757-4a0e-bc6b-cc86f0b58882",
   "metadata": {},
   "source": [
    "## Part 2: A tour of practical deep learning"
   ]
  },
  {
   "cell_type": "markdown",
   "id": "c49cc57c-9132-401f-8281-aba56aabe9ea",
   "metadata": {},
   "source": [
    "* [DL-Example-3-representing_data_as_images.ipynb](./DL-Example-3-representing_data_as_images.ipynb)\n",
    "* [DL-Example-3-representing_data_as_images.ipynb](./DL-Example-3-representing_data_as_images.ipynb)\n",
    "* [DL-Example-5-image_classification-tumor-grading.ipynb](./DL-Example-5-image_classification-tumor-grading.ipynb)\n",
    "* [DL-Example-6-segmentation-brain-tumor-using-MONAI.ipynb](./DL-Example-6-segmentation-brain-tumor-using-MONAI.ipynb)\n",
    "* [DL-Example-7-segmentation-cell-segmentation-PyTorch-fastai.ipynb](./DL-Example-7-segmentation-cell-segmentation-PyTorch-fastai.ipynb)"
   ]
  }
 ],
 "metadata": {
  "kernelspec": {
   "display_name": "Python 3",
   "language": "python",
   "name": "python3"
  },
  "language_info": {
   "codemirror_mode": {
    "name": "ipython",
    "version": 3
   },
   "file_extension": ".py",
   "mimetype": "text/x-python",
   "name": "python",
   "nbconvert_exporter": "python",
   "pygments_lexer": "ipython3",
   "version": "3.8.8"
  }
 },
 "nbformat": 4,
 "nbformat_minor": 5
}
