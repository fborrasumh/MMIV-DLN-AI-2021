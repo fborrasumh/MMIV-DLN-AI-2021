{
 "cells": [
  {
   "cell_type": "markdown",
   "metadata": {},
   "source": [
    "# Introduction"
   ]
  },
  {
   "cell_type": "markdown",
   "metadata": {},
   "source": [
    "As we've learned, deep neural networks provide (at least partly) hierarchical representations of data, tailored for a given task. \n",
    "\n",
    "At the end of a high-performance deep neural network, i.e. in the later hidden layers, you'll find a representation for each data instance that makes the task (relatively) easy to solve. \n",
    "\n",
    "An idea that can be quite useful in a wide variety of tasks is to _extract_ these representations and use them in other ML models. This is one easy way to combine information extracted by a deep neural network with other useful information for the task at hand. "
   ]
  },
  {
   "cell_type": "markdown",
   "metadata": {},
   "source": [
    "We'll use this idea in this notebook by extracting vector representations from the last hidden layer of a trained CNN, and use them to for training other ML models."
   ]
  },
  {
   "cell_type": "markdown",
   "metadata": {
    "heading_collapsed": true
   },
   "source": [
    "# Setup"
   ]
  },
  {
   "cell_type": "code",
   "execution_count": 1,
   "metadata": {
    "hidden": true
   },
   "outputs": [],
   "source": [
    "%matplotlib inline\n",
    "import pandas as pd\n",
    "import numpy as np\n",
    "from pathlib import Path\n",
    "import pandas as pd"
   ]
  },
  {
   "cell_type": "code",
   "execution_count": 2,
   "metadata": {
    "hidden": true
   },
   "outputs": [],
   "source": [
    "# If Jedi's not working\n",
    "%config Completer.use_jedi = False"
   ]
  },
  {
   "cell_type": "code",
   "execution_count": 3,
   "metadata": {
    "hidden": true
   },
   "outputs": [],
   "source": [
    "# Point this to where you stored the MOESM data:\n",
    "DATA = Path('/data2/drugdiscovery/MOESM')"
   ]
  },
  {
   "cell_type": "code",
   "execution_count": 4,
   "metadata": {
    "hidden": true
   },
   "outputs": [],
   "source": [
    "IMGDATA = Path('/data-ext-10tb/ubuntu/MOESM/molimages')"
   ]
  },
  {
   "cell_type": "code",
   "execution_count": 5,
   "metadata": {
    "hidden": true
   },
   "outputs": [],
   "source": [
    "NB_DIR = Path.cwd()\n",
    "LOCALDATA = NB_DIR/'dev-notebooks'/'data'/'drug'/'interim'"
   ]
  },
  {
   "cell_type": "code",
   "execution_count": 6,
   "metadata": {
    "hidden": true
   },
   "outputs": [],
   "source": [
    "from fastai.vision.all import *"
   ]
  },
  {
   "cell_type": "markdown",
   "metadata": {
    "heading_collapsed": true
   },
   "source": [
    "# Load data"
   ]
  },
  {
   "cell_type": "code",
   "execution_count": 7,
   "metadata": {
    "hidden": true
   },
   "outputs": [],
   "source": [
    "def get_df(data):\n",
    "    \"\"\"\n",
    "    Construct a dataframe containing \n",
    "        CID, SMILES, Image, Activity\n",
    "    \"\"\"\n",
    "    \n",
    "    name = data.stem\n",
    "    \n",
    "    df = pd.read_csv(data)\n",
    "    df['Image'] = df['CID'].apply(lambda x: f'{str(x)}.png')\n",
    "    \n",
    "    df = df[['CID', 'SMILES', 'Image', 'Activity']]\n",
    "    \n",
    "    return df, name"
   ]
  },
  {
   "cell_type": "markdown",
   "metadata": {
    "hidden": true
   },
   "source": [
    "We remember that we had 7 activity datasets:"
   ]
  },
  {
   "cell_type": "code",
   "execution_count": 8,
   "metadata": {
    "hidden": true
   },
   "outputs": [
    {
     "data": {
      "text/plain": [
       "[Path('/data2/drugdiscovery/MOESM/CHEMBL1978_cl.csv'),\n",
       " Path('/data2/drugdiscovery/MOESM/CHEMBL205_cl.csv'),\n",
       " Path('/data2/drugdiscovery/MOESM/CHEMBL218_cl.csv'),\n",
       " Path('/data2/drugdiscovery/MOESM/CHEMBL219_cl.csv'),\n",
       " Path('/data2/drugdiscovery/MOESM/CHEMBL240_cl.csv'),\n",
       " Path('/data2/drugdiscovery/MOESM/CHEMBL244_cl.csv'),\n",
       " Path('/data2/drugdiscovery/MOESM/CHEMBL301_cl.csv')]"
      ]
     },
     "execution_count": 8,
     "metadata": {},
     "output_type": "execute_result"
    }
   ],
   "source": [
    "# Datasets available:\n",
    "data = sorted(list(DATA.glob('CHEM*cl.csv')))\n",
    "data"
   ]
  },
  {
   "cell_type": "markdown",
   "metadata": {
    "hidden": true
   },
   "source": [
    "...and that we've generated images of the molecules:"
   ]
  },
  {
   "cell_type": "code",
   "execution_count": 9,
   "metadata": {
    "hidden": true
   },
   "outputs": [
    {
     "data": {
      "text/plain": [
       "(#7) [Path('/data-ext-10tb/ubuntu/MOESM/molimages/CHEMBL240_cl'),Path('/data-ext-10tb/ubuntu/MOESM/molimages/CHEMBL244_cl'),Path('/data-ext-10tb/ubuntu/MOESM/molimages/CHEMBL301_cl'),Path('/data-ext-10tb/ubuntu/MOESM/molimages/CHEMBL218_cl'),Path('/data-ext-10tb/ubuntu/MOESM/molimages/CHEMBL1978_cl'),Path('/data-ext-10tb/ubuntu/MOESM/molimages/CHEMBL205_cl'),Path('/data-ext-10tb/ubuntu/MOESM/molimages/CHEMBL219_cl')]"
      ]
     },
     "execution_count": 9,
     "metadata": {},
     "output_type": "execute_result"
    }
   ],
   "source": [
    "IMGDATA.ls()"
   ]
  },
  {
   "cell_type": "markdown",
   "metadata": {
    "hidden": true
   },
   "source": [
    "We'll use the **CHEMBL1978** data set in this notebook, as it's one of the smaller ones (and therefore quicker to train models on and to extract features from):"
   ]
  },
  {
   "cell_type": "code",
   "execution_count": 10,
   "metadata": {
    "hidden": true
   },
   "outputs": [
    {
     "data": {
      "text/plain": [
       "Path('/data2/drugdiscovery/MOESM/CHEMBL1978_cl.csv')"
      ]
     },
     "execution_count": 10,
     "metadata": {},
     "output_type": "execute_result"
    }
   ],
   "source": [
    "ds = data[0]\n",
    "ds"
   ]
  },
  {
   "cell_type": "code",
   "execution_count": 11,
   "metadata": {
    "hidden": true
   },
   "outputs": [],
   "source": [
    "df, name = get_df(ds)"
   ]
  },
  {
   "cell_type": "code",
   "execution_count": 12,
   "metadata": {
    "hidden": true
   },
   "outputs": [
    {
     "data": {
      "text/html": [
       "<div>\n",
       "<style scoped>\n",
       "    .dataframe tbody tr th:only-of-type {\n",
       "        vertical-align: middle;\n",
       "    }\n",
       "\n",
       "    .dataframe tbody tr th {\n",
       "        vertical-align: top;\n",
       "    }\n",
       "\n",
       "    .dataframe thead th {\n",
       "        text-align: right;\n",
       "    }\n",
       "</style>\n",
       "<table border=\"1\" class=\"dataframe\">\n",
       "  <thead>\n",
       "    <tr style=\"text-align: right;\">\n",
       "      <th></th>\n",
       "      <th>CID</th>\n",
       "      <th>SMILES</th>\n",
       "      <th>Image</th>\n",
       "      <th>Activity</th>\n",
       "    </tr>\n",
       "  </thead>\n",
       "  <tbody>\n",
       "    <tr>\n",
       "      <th>0</th>\n",
       "      <td>CHEMBL1454842</td>\n",
       "      <td>s1nc(nc1-c1ccncc1)-c1ccncc1</td>\n",
       "      <td>CHEMBL1454842.png</td>\n",
       "      <td>1</td>\n",
       "    </tr>\n",
       "    <tr>\n",
       "      <th>1</th>\n",
       "      <td>CHEMBL1939366</td>\n",
       "      <td>s1nc(nc1-c1cccnc1)-c1cccnc1</td>\n",
       "      <td>CHEMBL1939366.png</td>\n",
       "      <td>1</td>\n",
       "    </tr>\n",
       "    <tr>\n",
       "      <th>2</th>\n",
       "      <td>CHEMBL192155</td>\n",
       "      <td>s1cncc1\\C=C\\1/CCc2cc(OC)ccc/12</td>\n",
       "      <td>CHEMBL192155.png</td>\n",
       "      <td>1</td>\n",
       "    </tr>\n",
       "    <tr>\n",
       "      <th>3</th>\n",
       "      <td>CHEMBL517816</td>\n",
       "      <td>s1cccc1CN(n1ncnc1)Cc1ccc(cc1)C(C)(C)C</td>\n",
       "      <td>CHEMBL517816.png</td>\n",
       "      <td>1</td>\n",
       "    </tr>\n",
       "    <tr>\n",
       "      <th>4</th>\n",
       "      <td>CHEMBL523973</td>\n",
       "      <td>s1cccc1CN(n1ccnc1)Cc1ccc(cc1)C(C)(C)C</td>\n",
       "      <td>CHEMBL523973.png</td>\n",
       "      <td>1</td>\n",
       "    </tr>\n",
       "  </tbody>\n",
       "</table>\n",
       "</div>"
      ],
      "text/plain": [
       "             CID                                 SMILES              Image  \\\n",
       "0  CHEMBL1454842            s1nc(nc1-c1ccncc1)-c1ccncc1  CHEMBL1454842.png   \n",
       "1  CHEMBL1939366            s1nc(nc1-c1cccnc1)-c1cccnc1  CHEMBL1939366.png   \n",
       "2   CHEMBL192155         s1cncc1\\C=C\\1/CCc2cc(OC)ccc/12   CHEMBL192155.png   \n",
       "3   CHEMBL517816  s1cccc1CN(n1ncnc1)Cc1ccc(cc1)C(C)(C)C   CHEMBL517816.png   \n",
       "4   CHEMBL523973  s1cccc1CN(n1ccnc1)Cc1ccc(cc1)C(C)(C)C   CHEMBL523973.png   \n",
       "\n",
       "   Activity  \n",
       "0         1  \n",
       "1         1  \n",
       "2         1  \n",
       "3         1  \n",
       "4         1  "
      ]
     },
     "execution_count": 12,
     "metadata": {},
     "output_type": "execute_result"
    }
   ],
   "source": [
    "df.head()"
   ]
  },
  {
   "cell_type": "code",
   "execution_count": 13,
   "metadata": {
    "hidden": true
   },
   "outputs": [
    {
     "name": "stdout",
     "output_type": "stream",
     "text": [
      "<class 'pandas.core.frame.DataFrame'>\n",
      "RangeIndex: 6831 entries, 0 to 6830\n",
      "Data columns (total 4 columns):\n",
      " #   Column    Non-Null Count  Dtype \n",
      "---  ------    --------------  ----- \n",
      " 0   CID       6831 non-null   object\n",
      " 1   SMILES    6831 non-null   object\n",
      " 2   Image     6831 non-null   object\n",
      " 3   Activity  6831 non-null   int64 \n",
      "dtypes: int64(1), object(3)\n",
      "memory usage: 213.6+ KB\n"
     ]
    }
   ],
   "source": [
    "df.info()"
   ]
  },
  {
   "cell_type": "code",
   "execution_count": 14,
   "metadata": {
    "hidden": true
   },
   "outputs": [
    {
     "data": {
      "text/plain": [
       "0    6210\n",
       "1     621\n",
       "Name: Activity, dtype: int64"
      ]
     },
     "execution_count": 14,
     "metadata": {},
     "output_type": "execute_result"
    }
   ],
   "source": [
    "df['Activity'].value_counts()"
   ]
  },
  {
   "cell_type": "markdown",
   "metadata": {
    "heading_collapsed": true,
    "hidden": true
   },
   "source": [
    "## Create train-val-split and oversample train"
   ]
  },
  {
   "cell_type": "code",
   "execution_count": 15,
   "metadata": {
    "hidden": true
   },
   "outputs": [],
   "source": [
    "from sklearn.model_selection import train_test_split"
   ]
  },
  {
   "cell_type": "code",
   "execution_count": 16,
   "metadata": {
    "hidden": true
   },
   "outputs": [],
   "source": [
    "def val_cols_and_oversample(df, test_size=0.25, random_state=42, oversample=True):\n",
    "    x_train,x_val = train_test_split(df.index, test_size=test_size, stratify=df['Activity'], \n",
    "                                     random_state=random_state)\n",
    "    \n",
    "    df.loc[x_train, 'is_valid']=False\n",
    "    df.loc[x_val, 'is_valid']=True\n",
    "    # Oversample is_valid=False columns\n",
    "    if oversample:\n",
    "        df = pd.concat([*[df.loc[(df.is_valid==False) & (df.Activity==1)]]*10, \n",
    "                        *[df.loc[(df.is_valid==False) & (df.Activity==0)]], \n",
    "                        df.loc[df.is_valid==True]], \n",
    "                       ignore_index=True)\n",
    "    return df"
   ]
  },
  {
   "cell_type": "code",
   "execution_count": 17,
   "metadata": {
    "hidden": true
   },
   "outputs": [],
   "source": [
    "df = val_cols_and_oversample(df)"
   ]
  },
  {
   "cell_type": "code",
   "execution_count": 18,
   "metadata": {
    "hidden": true
   },
   "outputs": [
    {
     "data": {
      "text/html": [
       "<div>\n",
       "<style scoped>\n",
       "    .dataframe tbody tr th:only-of-type {\n",
       "        vertical-align: middle;\n",
       "    }\n",
       "\n",
       "    .dataframe tbody tr th {\n",
       "        vertical-align: top;\n",
       "    }\n",
       "\n",
       "    .dataframe thead th {\n",
       "        text-align: right;\n",
       "    }\n",
       "</style>\n",
       "<table border=\"1\" class=\"dataframe\">\n",
       "  <thead>\n",
       "    <tr style=\"text-align: right;\">\n",
       "      <th></th>\n",
       "      <th>CID</th>\n",
       "      <th>SMILES</th>\n",
       "      <th>Image</th>\n",
       "      <th>Activity</th>\n",
       "      <th>is_valid</th>\n",
       "    </tr>\n",
       "  </thead>\n",
       "  <tbody>\n",
       "    <tr>\n",
       "      <th>0</th>\n",
       "      <td>CHEMBL1939366</td>\n",
       "      <td>s1nc(nc1-c1cccnc1)-c1cccnc1</td>\n",
       "      <td>CHEMBL1939366.png</td>\n",
       "      <td>1</td>\n",
       "      <td>False</td>\n",
       "    </tr>\n",
       "    <tr>\n",
       "      <th>1</th>\n",
       "      <td>CHEMBL517816</td>\n",
       "      <td>s1cccc1CN(n1ncnc1)Cc1ccc(cc1)C(C)(C)C</td>\n",
       "      <td>CHEMBL517816.png</td>\n",
       "      <td>1</td>\n",
       "      <td>False</td>\n",
       "    </tr>\n",
       "    <tr>\n",
       "      <th>2</th>\n",
       "      <td>CHEMBL523973</td>\n",
       "      <td>s1cccc1CN(n1ccnc1)Cc1ccc(cc1)C(C)(C)C</td>\n",
       "      <td>CHEMBL523973.png</td>\n",
       "      <td>1</td>\n",
       "      <td>False</td>\n",
       "    </tr>\n",
       "    <tr>\n",
       "      <th>3</th>\n",
       "      <td>CHEMBL1957218</td>\n",
       "      <td>s1cc(nc1-c1ccncc1C)-c1cccnc1</td>\n",
       "      <td>CHEMBL1957218.png</td>\n",
       "      <td>1</td>\n",
       "      <td>False</td>\n",
       "    </tr>\n",
       "    <tr>\n",
       "      <th>4</th>\n",
       "      <td>CHEMBL1957223</td>\n",
       "      <td>s1cc(nc1-c1cccnc1)-c1ccc(OC)nc1</td>\n",
       "      <td>CHEMBL1957223.png</td>\n",
       "      <td>1</td>\n",
       "      <td>False</td>\n",
       "    </tr>\n",
       "  </tbody>\n",
       "</table>\n",
       "</div>"
      ],
      "text/plain": [
       "             CID                                 SMILES              Image  \\\n",
       "0  CHEMBL1939366            s1nc(nc1-c1cccnc1)-c1cccnc1  CHEMBL1939366.png   \n",
       "1   CHEMBL517816  s1cccc1CN(n1ncnc1)Cc1ccc(cc1)C(C)(C)C   CHEMBL517816.png   \n",
       "2   CHEMBL523973  s1cccc1CN(n1ccnc1)Cc1ccc(cc1)C(C)(C)C   CHEMBL523973.png   \n",
       "3  CHEMBL1957218           s1cc(nc1-c1ccncc1C)-c1cccnc1  CHEMBL1957218.png   \n",
       "4  CHEMBL1957223        s1cc(nc1-c1cccnc1)-c1ccc(OC)nc1  CHEMBL1957223.png   \n",
       "\n",
       "   Activity is_valid  \n",
       "0         1    False  \n",
       "1         1    False  \n",
       "2         1    False  \n",
       "3         1    False  \n",
       "4         1    False  "
      ]
     },
     "execution_count": 18,
     "metadata": {},
     "output_type": "execute_result"
    }
   ],
   "source": [
    "df.head()"
   ]
  },
  {
   "cell_type": "code",
   "execution_count": 19,
   "metadata": {
    "hidden": true
   },
   "outputs": [
    {
     "data": {
      "text/plain": [
       "0    6210\n",
       "1    4815\n",
       "Name: Activity, dtype: int64"
      ]
     },
     "execution_count": 19,
     "metadata": {},
     "output_type": "execute_result"
    }
   ],
   "source": [
    "df['Activity'].value_counts()"
   ]
  },
  {
   "cell_type": "markdown",
   "metadata": {
    "heading_collapsed": true
   },
   "source": [
    "# Create a dataloader"
   ]
  },
  {
   "cell_type": "code",
   "execution_count": 20,
   "metadata": {
    "hidden": true
   },
   "outputs": [],
   "source": [
    "bs=64"
   ]
  },
  {
   "cell_type": "code",
   "execution_count": 21,
   "metadata": {
    "hidden": true
   },
   "outputs": [],
   "source": [
    "batch_tfms = [Rotate(max_deg=25, pad_mode='border'), \n",
    "              Normalize.from_stats(*imagenet_stats)]"
   ]
  },
  {
   "cell_type": "code",
   "execution_count": 22,
   "metadata": {
    "hidden": true
   },
   "outputs": [],
   "source": [
    "datablock = DataBlock(\n",
    "    blocks=(ImageBlock(), CategoryBlock()),\n",
    "    get_x=ColReader('Image', pref=IMGDATA/name),\n",
    "    get_y=ColReader('Activity'),\n",
    "    splitter=ColSplitter('is_valid'),\n",
    "    item_tfms=None,\n",
    "    batch_tfms=batch_tfms\n",
    "    )"
   ]
  },
  {
   "cell_type": "code",
   "execution_count": 23,
   "metadata": {
    "hidden": true
   },
   "outputs": [],
   "source": [
    "dls = datablock.dataloaders(df, bs=bs, shuffle_train=True)"
   ]
  },
  {
   "cell_type": "code",
   "execution_count": 24,
   "metadata": {
    "hidden": true
   },
   "outputs": [
    {
     "data": {
      "image/png": "[encoded data removed]",
      "text/plain": [
       "<Figure size 648x648 with 9 Axes>"
      ]
     },
     "metadata": {
      "needs_background": "light"
     },
     "output_type": "display_data"
    }
   ],
   "source": [
    "dls.show_batch()"
   ]
  },
  {
   "cell_type": "markdown",
   "metadata": {
    "heading_collapsed": true
   },
   "source": [
    "# Train a CNN"
   ]
  },
  {
   "cell_type": "code",
   "execution_count": 25,
   "metadata": {
    "hidden": true
   },
   "outputs": [],
   "source": [
    "from utils import plot_metrics"
   ]
  },
  {
   "cell_type": "markdown",
   "metadata": {
    "hidden": true
   },
   "source": [
    "We use a pretrained resnet18 model as before, only adding a custom \"head\" to the model that outputs 128 features (to have fewer activations in the final hidden layer):"
   ]
  },
  {
   "cell_type": "code",
   "execution_count": 26,
   "metadata": {
    "hidden": true
   },
   "outputs": [],
   "source": [
    "custom_head = create_head(nf=512, n_out=2, lin_ftrs=[128], concat_pool=True)"
   ]
  },
  {
   "cell_type": "code",
   "execution_count": 27,
   "metadata": {
    "hidden": true
   },
   "outputs": [
    {
     "data": {
      "text/plain": [
       "Sequential(\n",
       "  (0): AdaptiveConcatPool2d(\n",
       "    (ap): AdaptiveAvgPool2d(output_size=1)\n",
       "    (mp): AdaptiveMaxPool2d(output_size=1)\n",
       "  )\n",
       "  (1): Flatten(full=False)\n",
       "  (2): BatchNorm1d(1024, eps=1e-05, momentum=0.1, affine=True, track_running_stats=True)\n",
       "  (3): Dropout(p=0.25, inplace=False)\n",
       "  (4): Linear(in_features=1024, out_features=128, bias=False)\n",
       "  (5): ReLU(inplace=True)\n",
       "  (6): BatchNorm1d(128, eps=1e-05, momentum=0.1, affine=True, track_running_stats=True)\n",
       "  (7): Dropout(p=0.5, inplace=False)\n",
       "  (8): Linear(in_features=128, out_features=2, bias=False)\n",
       ")"
      ]
     },
     "execution_count": 27,
     "metadata": {},
     "output_type": "execute_result"
    }
   ],
   "source": [
    "custom_head"
   ]
  },
  {
   "cell_type": "code",
   "execution_count": 28,
   "metadata": {
    "hidden": true
   },
   "outputs": [],
   "source": [
    "learn = cnn_learner(dls,                             \n",
    "                arch=resnet18, pretrained=True,  \n",
    "                custom_head=custom_head,\n",
    "                wd=2e-4, ps=0.8,                    \n",
    "                metrics=[accuracy,                  \n",
    "                         F1Score(), \n",
    "                         Precision(), \n",
    "                         Recall(), \n",
    "                         RocAucBinary(), \n",
    "                         MatthewsCorrCoef()],\n",
    "                cbs=[ShowGraphCallback()])"
   ]
  },
  {
   "cell_type": "markdown",
   "metadata": {
    "hidden": true
   },
   "source": [
    "The below training takes a while. We can rather load the results of a previous run:"
   ]
  },
  {
   "cell_type": "code",
   "execution_count": 31,
   "metadata": {
    "hidden": true
   },
   "outputs": [],
   "source": [
    "learn = learn.load('chembl1978-model-test-hooks')"
   ]
  },
  {
   "cell_type": "code",
   "execution_count": 29,
   "metadata": {
    "hidden": true
   },
   "outputs": [
    {
     "data": {
      "text/html": [],
      "text/plain": [
       "<IPython.core.display.HTML object>"
      ]
     },
     "metadata": {},
     "output_type": "display_data"
    },
    {
     "data": {
      "image/png": "[encoded data removed]",
      "text/plain": [
       "<Figure size 432x288 with 1 Axes>"
      ]
     },
     "metadata": {
      "needs_background": "light"
     },
     "output_type": "display_data"
    }
   ],
   "source": [
    "lr_min, _ = learn.lr_find(suggestions=True)"
   ]
  },
  {
   "cell_type": "code",
   "execution_count": 30,
   "metadata": {
    "hidden": true
   },
   "outputs": [
    {
     "data": {
      "text/plain": [
       "0.03630780577659607"
      ]
     },
     "execution_count": 30,
     "metadata": {},
     "output_type": "execute_result"
    }
   ],
   "source": [
    "lr_min"
   ]
  },
  {
   "cell_type": "code",
   "execution_count": 31,
   "metadata": {
    "hidden": true,
    "tags": []
   },
   "outputs": [
    {
     "data": {
      "text/html": [
       "<table border=\"1\" class=\"dataframe\">\n",
       "  <thead>\n",
       "    <tr style=\"text-align: left;\">\n",
       "      <th>epoch</th>\n",
       "      <th>train_loss</th>\n",
       "      <th>valid_loss</th>\n",
       "      <th>accuracy</th>\n",
       "      <th>f1_score</th>\n",
       "      <th>precision_score</th>\n",
       "      <th>recall_score</th>\n",
       "      <th>roc_auc_score</th>\n",
       "      <th>matthews_corrcoef</th>\n",
       "      <th>time</th>\n",
       "    </tr>\n",
       "  </thead>\n",
       "  <tbody>\n",
       "    <tr>\n",
       "      <td>0</td>\n",
       "      <td>0.309027</td>\n",
       "      <td>0.222809</td>\n",
       "      <td>0.911007</td>\n",
       "      <td>0.648148</td>\n",
       "      <td>0.505415</td>\n",
       "      <td>0.903226</td>\n",
       "      <td>0.962042</td>\n",
       "      <td>0.635118</td>\n",
       "      <td>00:37</td>\n",
       "    </tr>\n",
       "    <tr>\n",
       "      <td>1</td>\n",
       "      <td>0.215386</td>\n",
       "      <td>0.121588</td>\n",
       "      <td>0.964871</td>\n",
       "      <td>0.810127</td>\n",
       "      <td>0.795031</td>\n",
       "      <td>0.825806</td>\n",
       "      <td>0.970554</td>\n",
       "      <td>0.790953</td>\n",
       "      <td>00:36</td>\n",
       "    </tr>\n",
       "    <tr>\n",
       "      <td>2</td>\n",
       "      <td>0.158347</td>\n",
       "      <td>0.365355</td>\n",
       "      <td>0.884075</td>\n",
       "      <td>0.604000</td>\n",
       "      <td>0.437681</td>\n",
       "      <td>0.974194</td>\n",
       "      <td>0.977488</td>\n",
       "      <td>0.607634</td>\n",
       "      <td>00:36</td>\n",
       "    </tr>\n",
       "    <tr>\n",
       "      <td>3</td>\n",
       "      <td>0.133653</td>\n",
       "      <td>0.131030</td>\n",
       "      <td>0.953747</td>\n",
       "      <td>0.784741</td>\n",
       "      <td>0.679245</td>\n",
       "      <td>0.929032</td>\n",
       "      <td>0.981767</td>\n",
       "      <td>0.771226</td>\n",
       "      <td>00:37</td>\n",
       "    </tr>\n",
       "    <tr>\n",
       "      <td>4</td>\n",
       "      <td>0.121126</td>\n",
       "      <td>0.092991</td>\n",
       "      <td>0.974824</td>\n",
       "      <td>0.864353</td>\n",
       "      <td>0.845679</td>\n",
       "      <td>0.883871</td>\n",
       "      <td>0.981646</td>\n",
       "      <td>0.850737</td>\n",
       "      <td>00:37</td>\n",
       "    </tr>\n",
       "    <tr>\n",
       "      <td>5</td>\n",
       "      <td>0.105937</td>\n",
       "      <td>0.089018</td>\n",
       "      <td>0.977166</td>\n",
       "      <td>0.873786</td>\n",
       "      <td>0.876623</td>\n",
       "      <td>0.870968</td>\n",
       "      <td>0.980649</td>\n",
       "      <td>0.861240</td>\n",
       "      <td>00:36</td>\n",
       "    </tr>\n",
       "    <tr>\n",
       "      <td>6</td>\n",
       "      <td>0.079080</td>\n",
       "      <td>0.104706</td>\n",
       "      <td>0.971897</td>\n",
       "      <td>0.854545</td>\n",
       "      <td>0.805714</td>\n",
       "      <td>0.909677</td>\n",
       "      <td>0.982992</td>\n",
       "      <td>0.840948</td>\n",
       "      <td>00:36</td>\n",
       "    </tr>\n",
       "    <tr>\n",
       "      <td>7</td>\n",
       "      <td>0.052114</td>\n",
       "      <td>0.103751</td>\n",
       "      <td>0.978337</td>\n",
       "      <td>0.881789</td>\n",
       "      <td>0.873418</td>\n",
       "      <td>0.890323</td>\n",
       "      <td>0.981736</td>\n",
       "      <td>0.869915</td>\n",
       "      <td>00:36</td>\n",
       "    </tr>\n",
       "    <tr>\n",
       "      <td>8</td>\n",
       "      <td>0.047780</td>\n",
       "      <td>0.102470</td>\n",
       "      <td>0.974824</td>\n",
       "      <td>0.866873</td>\n",
       "      <td>0.833333</td>\n",
       "      <td>0.903226</td>\n",
       "      <td>0.984058</td>\n",
       "      <td>0.853839</td>\n",
       "      <td>00:36</td>\n",
       "    </tr>\n",
       "    <tr>\n",
       "      <td>9</td>\n",
       "      <td>0.040300</td>\n",
       "      <td>0.101220</td>\n",
       "      <td>0.976581</td>\n",
       "      <td>0.876543</td>\n",
       "      <td>0.840237</td>\n",
       "      <td>0.916129</td>\n",
       "      <td>0.984521</td>\n",
       "      <td>0.864619</td>\n",
       "      <td>00:36</td>\n",
       "    </tr>\n",
       "  </tbody>\n",
       "</table>"
      ],
      "text/plain": [
       "<IPython.core.display.HTML object>"
      ]
     },
     "metadata": {},
     "output_type": "display_data"
    },
    {
     "data": {
      "image/png": "[encoded data removed]",
      "text/plain": [
       "<Figure size 432x288 with 1 Axes>"
      ]
     },
     "metadata": {},
     "output_type": "display_data"
    }
   ],
   "source": [
    "learn.fit_one_cycle(10, slice(lr_min))"
   ]
  },
  {
   "cell_type": "code",
   "execution_count": 45,
   "metadata": {
    "hidden": true
   },
   "outputs": [
    {
     "data": {
      "image/png": "[encoded data removed]",
      "text/plain": [
       "<Figure size 1728x576 with 8 Axes>"
      ]
     },
     "metadata": {
      "needs_background": "light"
     },
     "output_type": "display_data"
    }
   ],
   "source": [
    "learn.recorder.plot_metrics()"
   ]
  },
  {
   "cell_type": "code",
   "execution_count": 32,
   "metadata": {
    "hidden": true
   },
   "outputs": [
    {
     "data": {
      "text/plain": [
       "Path('models/chembl1978-model-test-hooks.pth')"
      ]
     },
     "execution_count": 32,
     "metadata": {},
     "output_type": "execute_result"
    }
   ],
   "source": [
    "learn.save('chembl1978-model-test-hooks')"
   ]
  },
  {
   "cell_type": "markdown",
   "metadata": {
    "hidden": true
   },
   "source": [
    "### Evaluate"
   ]
  },
  {
   "cell_type": "code",
   "execution_count": 33,
   "metadata": {
    "hidden": true
   },
   "outputs": [
    {
     "data": {
      "text/html": [],
      "text/plain": [
       "<IPython.core.display.HTML object>"
      ]
     },
     "metadata": {},
     "output_type": "display_data"
    },
    {
     "name": "stderr",
     "output_type": "stream",
     "text": [
      "/home/ubuntu/anaconda3/envs/fastai/lib/python3.8/site-packages/sklearn/metrics/_classification.py:1248: UndefinedMetricWarning: Precision is ill-defined and being set to 0.0 due to no predicted samples. Use `zero_division` parameter to control this behavior.\n",
      "  _warn_prf(average, modifier, msg_start, len(result))\n",
      "/home/ubuntu/anaconda3/envs/fastai/lib/python3.8/site-packages/sklearn/metrics/_classification.py:873: RuntimeWarning: invalid value encountered in double_scalars\n",
      "  mcc = cov_ytyp / np.sqrt(cov_ytyt * cov_ypyp)\n"
     ]
    }
   ],
   "source": [
    "interp = ClassificationInterpretation.from_learner(learn)"
   ]
  },
  {
   "cell_type": "code",
   "execution_count": 48,
   "metadata": {
    "hidden": true
   },
   "outputs": [
    {
     "data": {
      "image/png": "[encoded data removed]",
      "text/plain": [
       "<Figure size 432x288 with 1 Axes>"
      ]
     },
     "metadata": {
      "needs_background": "light"
     },
     "output_type": "display_data"
    }
   ],
   "source": [
    "interp.plot_confusion_matrix()"
   ]
  },
  {
   "cell_type": "markdown",
   "metadata": {
    "heading_collapsed": true
   },
   "source": [
    "# Save activations \n",
    "\n",
    "from second final layer. To be used to train a different ML model."
   ]
  },
  {
   "cell_type": "markdown",
   "metadata": {
    "hidden": true
   },
   "source": [
    "We need to register a \"hook\" at the layer we want to save activations from:"
   ]
  },
  {
   "cell_type": "code",
   "execution_count": 49,
   "metadata": {
    "hidden": true
   },
   "outputs": [],
   "source": [
    "class Hook():\n",
    "    def hook_func(self, m, i, o): self.stored = o.detach().clone()"
   ]
  },
  {
   "cell_type": "code",
   "execution_count": 50,
   "metadata": {
    "hidden": true
   },
   "outputs": [
    {
     "data": {
      "text/plain": [
       "Linear(in_features=1024, out_features=128, bias=False)"
      ]
     },
     "execution_count": 50,
     "metadata": {},
     "output_type": "execute_result"
    }
   ],
   "source": [
    "learn.model[-1][-5]"
   ]
  },
  {
   "cell_type": "code",
   "execution_count": 51,
   "metadata": {
    "hidden": true
   },
   "outputs": [],
   "source": [
    "hook_output = Hook()\n",
    "hook = learn.model[-1][-5].register_forward_hook(hook_output.hook_func)"
   ]
  },
  {
   "cell_type": "markdown",
   "metadata": {
    "hidden": true
   },
   "source": [
    "Create the df again, this time with no oversampling (as that's not necessary)."
   ]
  },
  {
   "cell_type": "code",
   "execution_count": 52,
   "metadata": {
    "hidden": true
   },
   "outputs": [],
   "source": [
    "df, name = get_df(ds)\n",
    "\n",
    "df_nodupl = val_cols_and_oversample(df, oversample=False)"
   ]
  },
  {
   "cell_type": "markdown",
   "metadata": {
    "hidden": true
   },
   "source": [
    "No data augmentation:"
   ]
  },
  {
   "cell_type": "code",
   "execution_count": 53,
   "metadata": {
    "hidden": true
   },
   "outputs": [],
   "source": [
    "test_db = DataBlock(\n",
    "    blocks=(ImageBlock(), CategoryBlock()),\n",
    "    get_x=ColReader('Image', pref=IMGDATA/name),\n",
    "    get_y=ColReader('Activity'),\n",
    "    splitter=RandomSplitter(valid_pct=0.),\n",
    "    item_tfms=None,\n",
    "    batch_tfms=None\n",
    "    )"
   ]
  },
  {
   "cell_type": "markdown",
   "metadata": {
    "hidden": true
   },
   "source": [
    "We can feed one image at a time throught the model to get the activations"
   ]
  },
  {
   "cell_type": "code",
   "execution_count": 54,
   "metadata": {
    "hidden": true
   },
   "outputs": [],
   "source": [
    "test_dls = test_db.dataloaders(df_nodupl, bs=1)"
   ]
  },
  {
   "cell_type": "code",
   "execution_count": 55,
   "metadata": {
    "hidden": true
   },
   "outputs": [],
   "source": [
    "test_df = test_dls.items.reset_index()"
   ]
  },
  {
   "cell_type": "code",
   "execution_count": 56,
   "metadata": {
    "hidden": true
   },
   "outputs": [
    {
     "data": {
      "text/html": [
       "<div>\n",
       "<style scoped>\n",
       "    .dataframe tbody tr th:only-of-type {\n",
       "        vertical-align: middle;\n",
       "    }\n",
       "\n",
       "    .dataframe tbody tr th {\n",
       "        vertical-align: top;\n",
       "    }\n",
       "\n",
       "    .dataframe thead th {\n",
       "        text-align: right;\n",
       "    }\n",
       "</style>\n",
       "<table border=\"1\" class=\"dataframe\">\n",
       "  <thead>\n",
       "    <tr style=\"text-align: right;\">\n",
       "      <th></th>\n",
       "      <th>index</th>\n",
       "      <th>CID</th>\n",
       "      <th>SMILES</th>\n",
       "      <th>Image</th>\n",
       "      <th>Activity</th>\n",
       "      <th>is_valid</th>\n",
       "    </tr>\n",
       "  </thead>\n",
       "  <tbody>\n",
       "    <tr>\n",
       "      <th>0</th>\n",
       "      <td>4056</td>\n",
       "      <td>CHEMBL44179</td>\n",
       "      <td>O(C)c1ccccc1NC(=O)CCCCCCC\\C=C\\CCCCCCCC</td>\n",
       "      <td>CHEMBL44179.png</td>\n",
       "      <td>0</td>\n",
       "      <td>False</td>\n",
       "    </tr>\n",
       "    <tr>\n",
       "      <th>1</th>\n",
       "      <td>2022</td>\n",
       "      <td>CHEMBL2179491</td>\n",
       "      <td>S(=O)(=O)(C)c1cc2c3CCCCc3n(c2cc1)CCCS(=O)(=O)N(C)C</td>\n",
       "      <td>CHEMBL2179491.png</td>\n",
       "      <td>0</td>\n",
       "      <td>False</td>\n",
       "    </tr>\n",
       "    <tr>\n",
       "      <th>2</th>\n",
       "      <td>4080</td>\n",
       "      <td>CHEMBL210655</td>\n",
       "      <td>O(C)c1ccccc1CC(=O)Nc1[nH+]c(OCC)c(C#N)c(N)c1</td>\n",
       "      <td>CHEMBL210655.png</td>\n",
       "      <td>0</td>\n",
       "      <td>False</td>\n",
       "    </tr>\n",
       "    <tr>\n",
       "      <th>3</th>\n",
       "      <td>3119</td>\n",
       "      <td>CHEMBL26521</td>\n",
       "      <td>O=C1NC2C(N1C1CC[NH+](CC1)Cc1ccccc1)CCCC2</td>\n",
       "      <td>CHEMBL26521.png</td>\n",
       "      <td>0</td>\n",
       "      <td>False</td>\n",
       "    </tr>\n",
       "    <tr>\n",
       "      <th>4</th>\n",
       "      <td>4750</td>\n",
       "      <td>CHEMBL526083</td>\n",
       "      <td>Fc1ccc(cc1)-c1ncc(nc1)C(=O)Nc1cc2[nH]c(nc2cc1)N(C(C)C)C</td>\n",
       "      <td>CHEMBL526083.png</td>\n",
       "      <td>0</td>\n",
       "      <td>False</td>\n",
       "    </tr>\n",
       "  </tbody>\n",
       "</table>\n",
       "</div>"
      ],
      "text/plain": [
       "   index            CID  \\\n",
       "0   4056    CHEMBL44179   \n",
       "1   2022  CHEMBL2179491   \n",
       "2   4080   CHEMBL210655   \n",
       "3   3119    CHEMBL26521   \n",
       "4   4750   CHEMBL526083   \n",
       "\n",
       "                                                    SMILES              Image  \\\n",
       "0                   O(C)c1ccccc1NC(=O)CCCCCCC\\C=C\\CCCCCCCC    CHEMBL44179.png   \n",
       "1       S(=O)(=O)(C)c1cc2c3CCCCc3n(c2cc1)CCCS(=O)(=O)N(C)C  CHEMBL2179491.png   \n",
       "2             O(C)c1ccccc1CC(=O)Nc1[nH+]c(OCC)c(C#N)c(N)c1   CHEMBL210655.png   \n",
       "3                 O=C1NC2C(N1C1CC[NH+](CC1)Cc1ccccc1)CCCC2    CHEMBL26521.png   \n",
       "4  Fc1ccc(cc1)-c1ncc(nc1)C(=O)Nc1cc2[nH]c(nc2cc1)N(C(C)C)C   CHEMBL526083.png   \n",
       "\n",
       "   Activity is_valid  \n",
       "0         0    False  \n",
       "1         0    False  \n",
       "2         0    False  \n",
       "3         0    False  \n",
       "4         0    False  "
      ]
     },
     "execution_count": 56,
     "metadata": {},
     "output_type": "execute_result"
    }
   ],
   "source": [
    "test_df.head()"
   ]
  },
  {
   "cell_type": "markdown",
   "metadata": {
    "hidden": true
   },
   "source": [
    "Each element of the dataset consists of an image (a `PILImage`) and a category (the corresponding activity label):"
   ]
  },
  {
   "cell_type": "code",
   "execution_count": 57,
   "metadata": {
    "hidden": true
   },
   "outputs": [
    {
     "data": {
      "text/plain": [
       "(PILImage mode=RGB size=500x500, TensorCategory(0))"
      ]
     },
     "execution_count": 57,
     "metadata": {},
     "output_type": "execute_result"
    }
   ],
   "source": [
    "test_dls.dataset[0]"
   ]
  },
  {
   "cell_type": "code",
   "execution_count": 58,
   "metadata": {
    "hidden": true
   },
   "outputs": [
    {
     "data": {
      "image/png": "[encoded data removed]",
      "text/plain": [
       "PILImage mode=RGB size=500x500"
      ]
     },
     "execution_count": 58,
     "metadata": {},
     "output_type": "execute_result"
    }
   ],
   "source": [
    "test_dls.dataset[0][0]"
   ]
  },
  {
   "cell_type": "code",
   "execution_count": 59,
   "metadata": {
    "hidden": true
   },
   "outputs": [],
   "source": [
    "def get_data(CID):\n",
    "    idx = test_df.loc[test_df.CID==CID].index[0]\n",
    "    print(idx)\n",
    "    return test_dls.dataset[idx]"
   ]
  },
  {
   "cell_type": "code",
   "execution_count": 60,
   "metadata": {
    "hidden": true
   },
   "outputs": [],
   "source": [
    "def get_activations(CID):\n",
    "    idx = df_nodupl.loc[df_nodupl.CID == CID].index[0]\n",
    "    data = get_data(CID)\n",
    "    img = data[0]\n",
    "    \n",
    "    with torch.no_grad(): \n",
    "        output = learn.predict(img)\n",
    "    acts = np.array(hook_output.stored.cpu())[0]\n",
    "\n",
    "    return list(acts)"
   ]
  },
  {
   "cell_type": "markdown",
   "metadata": {
    "hidden": true
   },
   "source": [
    "The below computation takes a while.. We can rather load results computed earlier:"
   ]
  },
  {
   "cell_type": "code",
   "execution_count": 34,
   "metadata": {
    "hidden": true
   },
   "outputs": [],
   "source": [
    "df_acts = pd.read_csv('data/chembl1978_cnn_activations.csv')"
   ]
  },
  {
   "cell_type": "code",
   "execution_count": 61,
   "metadata": {
    "hidden": true
   },
   "outputs": [
    {
     "name": "stdout",
     "output_type": "stream",
     "text": [
      "CPU times: user 17min 32s, sys: 52.4 s, total: 18min 24s\n",
      "Wall time: 2min 18s\n"
     ]
    }
   ],
   "source": [
    "#%%time\n",
    "#%%capture\n",
    "#df_nodupl['activations'] = df_nodupl.CID.apply(get_activations)"
   ]
  },
  {
   "cell_type": "markdown",
   "metadata": {
    "hidden": true
   },
   "source": [
    "Now we've stored activations for each image:"
   ]
  },
  {
   "cell_type": "code",
   "execution_count": 36,
   "metadata": {
    "hidden": true
   },
   "outputs": [],
   "source": [
    "#df_nodupl.head()"
   ]
  },
  {
   "cell_type": "markdown",
   "metadata": {
    "hidden": true
   },
   "source": [
    "We split the activations to have one column for each, as they will be treated as separate features later:"
   ]
  },
  {
   "cell_type": "code",
   "execution_count": 63,
   "metadata": {
    "hidden": true
   },
   "outputs": [],
   "source": [
    "df_acts = pd.concat([df_nodupl, pd.DataFrame(df_nodupl.activations.values.tolist()).add_prefix('act_')], axis=1)"
   ]
  },
  {
   "cell_type": "code",
   "execution_count": 64,
   "metadata": {
    "hidden": true
   },
   "outputs": [],
   "source": [
    "df_acts.drop('activations', axis=1, inplace=True)"
   ]
  },
  {
   "cell_type": "markdown",
   "metadata": {
    "hidden": true
   },
   "source": [
    "Here's the result:"
   ]
  },
  {
   "cell_type": "code",
   "execution_count": 37,
   "metadata": {
    "hidden": true
   },
   "outputs": [
    {
     "data": {
      "text/html": [
       "<div>\n",
       "<style scoped>\n",
       "    .dataframe tbody tr th:only-of-type {\n",
       "        vertical-align: middle;\n",
       "    }\n",
       "\n",
       "    .dataframe tbody tr th {\n",
       "        vertical-align: top;\n",
       "    }\n",
       "\n",
       "    .dataframe thead th {\n",
       "        text-align: right;\n",
       "    }\n",
       "</style>\n",
       "<table border=\"1\" class=\"dataframe\">\n",
       "  <thead>\n",
       "    <tr style=\"text-align: right;\">\n",
       "      <th></th>\n",
       "      <th>CID</th>\n",
       "      <th>SMILES</th>\n",
       "      <th>Image</th>\n",
       "      <th>Activity</th>\n",
       "      <th>is_valid</th>\n",
       "      <th>act_0</th>\n",
       "      <th>act_1</th>\n",
       "      <th>act_2</th>\n",
       "      <th>act_3</th>\n",
       "      <th>act_4</th>\n",
       "      <th>...</th>\n",
       "      <th>act_118</th>\n",
       "      <th>act_119</th>\n",
       "      <th>act_120</th>\n",
       "      <th>act_121</th>\n",
       "      <th>act_122</th>\n",
       "      <th>act_123</th>\n",
       "      <th>act_124</th>\n",
       "      <th>act_125</th>\n",
       "      <th>act_126</th>\n",
       "      <th>act_127</th>\n",
       "    </tr>\n",
       "  </thead>\n",
       "  <tbody>\n",
       "    <tr>\n",
       "      <th>0</th>\n",
       "      <td>CHEMBL1454842</td>\n",
       "      <td>s1nc(nc1-c1ccncc1)-c1ccncc1</td>\n",
       "      <td>CHEMBL1454842.png</td>\n",
       "      <td>1</td>\n",
       "      <td>True</td>\n",
       "      <td>3.485569</td>\n",
       "      <td>1.898547</td>\n",
       "      <td>-38.878273</td>\n",
       "      <td>7.912410</td>\n",
       "      <td>-30.636671</td>\n",
       "      <td>...</td>\n",
       "      <td>-26.087261</td>\n",
       "      <td>10.845460</td>\n",
       "      <td>-16.769337</td>\n",
       "      <td>-27.859449</td>\n",
       "      <td>22.668242</td>\n",
       "      <td>9.978525</td>\n",
       "      <td>20.189241</td>\n",
       "      <td>29.793533</td>\n",
       "      <td>11.848484</td>\n",
       "      <td>22.452715</td>\n",
       "    </tr>\n",
       "    <tr>\n",
       "      <th>1</th>\n",
       "      <td>CHEMBL1939366</td>\n",
       "      <td>s1nc(nc1-c1cccnc1)-c1cccnc1</td>\n",
       "      <td>CHEMBL1939366.png</td>\n",
       "      <td>1</td>\n",
       "      <td>False</td>\n",
       "      <td>-2.217715</td>\n",
       "      <td>10.761065</td>\n",
       "      <td>-52.895351</td>\n",
       "      <td>-2.844842</td>\n",
       "      <td>-13.003623</td>\n",
       "      <td>...</td>\n",
       "      <td>-4.451060</td>\n",
       "      <td>17.848938</td>\n",
       "      <td>-31.413528</td>\n",
       "      <td>-10.253824</td>\n",
       "      <td>25.925531</td>\n",
       "      <td>-5.185490</td>\n",
       "      <td>9.071753</td>\n",
       "      <td>43.889679</td>\n",
       "      <td>17.232124</td>\n",
       "      <td>35.617458</td>\n",
       "    </tr>\n",
       "    <tr>\n",
       "      <th>2</th>\n",
       "      <td>CHEMBL192155</td>\n",
       "      <td>s1cncc1\\C=C\\1/CCc2cc(OC)ccc/12</td>\n",
       "      <td>CHEMBL192155.png</td>\n",
       "      <td>1</td>\n",
       "      <td>True</td>\n",
       "      <td>5.656251</td>\n",
       "      <td>4.901986</td>\n",
       "      <td>-49.849308</td>\n",
       "      <td>14.309812</td>\n",
       "      <td>-13.939421</td>\n",
       "      <td>...</td>\n",
       "      <td>-12.291193</td>\n",
       "      <td>20.940042</td>\n",
       "      <td>7.085035</td>\n",
       "      <td>-23.009224</td>\n",
       "      <td>30.580616</td>\n",
       "      <td>5.500651</td>\n",
       "      <td>27.811693</td>\n",
       "      <td>34.743080</td>\n",
       "      <td>-0.426268</td>\n",
       "      <td>14.223265</td>\n",
       "    </tr>\n",
       "    <tr>\n",
       "      <th>3</th>\n",
       "      <td>CHEMBL517816</td>\n",
       "      <td>s1cccc1CN(n1ncnc1)Cc1ccc(cc1)C(C)(C)C</td>\n",
       "      <td>CHEMBL517816.png</td>\n",
       "      <td>1</td>\n",
       "      <td>False</td>\n",
       "      <td>11.196653</td>\n",
       "      <td>10.385941</td>\n",
       "      <td>-20.909716</td>\n",
       "      <td>5.669860</td>\n",
       "      <td>-33.497929</td>\n",
       "      <td>...</td>\n",
       "      <td>-30.099443</td>\n",
       "      <td>10.059969</td>\n",
       "      <td>-16.107344</td>\n",
       "      <td>-23.143013</td>\n",
       "      <td>32.467686</td>\n",
       "      <td>18.741871</td>\n",
       "      <td>15.052759</td>\n",
       "      <td>50.799931</td>\n",
       "      <td>2.927256</td>\n",
       "      <td>27.810600</td>\n",
       "    </tr>\n",
       "    <tr>\n",
       "      <th>4</th>\n",
       "      <td>CHEMBL523973</td>\n",
       "      <td>s1cccc1CN(n1ccnc1)Cc1ccc(cc1)C(C)(C)C</td>\n",
       "      <td>CHEMBL523973.png</td>\n",
       "      <td>1</td>\n",
       "      <td>False</td>\n",
       "      <td>2.815598</td>\n",
       "      <td>14.836289</td>\n",
       "      <td>-14.933740</td>\n",
       "      <td>-2.783419</td>\n",
       "      <td>-34.052666</td>\n",
       "      <td>...</td>\n",
       "      <td>-24.011885</td>\n",
       "      <td>18.602715</td>\n",
       "      <td>-16.238585</td>\n",
       "      <td>-25.184177</td>\n",
       "      <td>41.306664</td>\n",
       "      <td>-1.612225</td>\n",
       "      <td>17.429197</td>\n",
       "      <td>53.076782</td>\n",
       "      <td>-0.566382</td>\n",
       "      <td>34.914177</td>\n",
       "    </tr>\n",
       "  </tbody>\n",
       "</table>\n",
       "<p>5 rows × 133 columns</p>\n",
       "</div>"
      ],
      "text/plain": [
       "             CID                                 SMILES              Image  \\\n",
       "0  CHEMBL1454842            s1nc(nc1-c1ccncc1)-c1ccncc1  CHEMBL1454842.png   \n",
       "1  CHEMBL1939366            s1nc(nc1-c1cccnc1)-c1cccnc1  CHEMBL1939366.png   \n",
       "2   CHEMBL192155         s1cncc1\\C=C\\1/CCc2cc(OC)ccc/12   CHEMBL192155.png   \n",
       "3   CHEMBL517816  s1cccc1CN(n1ncnc1)Cc1ccc(cc1)C(C)(C)C   CHEMBL517816.png   \n",
       "4   CHEMBL523973  s1cccc1CN(n1ccnc1)Cc1ccc(cc1)C(C)(C)C   CHEMBL523973.png   \n",
       "\n",
       "   Activity  is_valid      act_0      act_1      act_2      act_3      act_4  \\\n",
       "0         1      True   3.485569   1.898547 -38.878273   7.912410 -30.636671   \n",
       "1         1     False  -2.217715  10.761065 -52.895351  -2.844842 -13.003623   \n",
       "2         1      True   5.656251   4.901986 -49.849308  14.309812 -13.939421   \n",
       "3         1     False  11.196653  10.385941 -20.909716   5.669860 -33.497929   \n",
       "4         1     False   2.815598  14.836289 -14.933740  -2.783419 -34.052666   \n",
       "\n",
       "   ...    act_118    act_119    act_120    act_121    act_122    act_123  \\\n",
       "0  ... -26.087261  10.845460 -16.769337 -27.859449  22.668242   9.978525   \n",
       "1  ...  -4.451060  17.848938 -31.413528 -10.253824  25.925531  -5.185490   \n",
       "2  ... -12.291193  20.940042   7.085035 -23.009224  30.580616   5.500651   \n",
       "3  ... -30.099443  10.059969 -16.107344 -23.143013  32.467686  18.741871   \n",
       "4  ... -24.011885  18.602715 -16.238585 -25.184177  41.306664  -1.612225   \n",
       "\n",
       "     act_124    act_125    act_126    act_127  \n",
       "0  20.189241  29.793533  11.848484  22.452715  \n",
       "1   9.071753  43.889679  17.232124  35.617458  \n",
       "2  27.811693  34.743080  -0.426268  14.223265  \n",
       "3  15.052759  50.799931   2.927256  27.810600  \n",
       "4  17.429197  53.076782  -0.566382  34.914177  \n",
       "\n",
       "[5 rows x 133 columns]"
      ]
     },
     "execution_count": 37,
     "metadata": {},
     "output_type": "execute_result"
    }
   ],
   "source": [
    "df_acts.head()"
   ]
  },
  {
   "cell_type": "code",
   "execution_count": 66,
   "metadata": {
    "hidden": true
   },
   "outputs": [
    {
     "name": "stdout",
     "output_type": "stream",
     "text": [
      "<class 'pandas.core.frame.DataFrame'>\n",
      "RangeIndex: 6831 entries, 0 to 6830\n",
      "Columns: 133 entries, CID to act_127\n",
      "dtypes: float64(128), int64(1), object(4)\n",
      "memory usage: 6.9+ MB\n"
     ]
    }
   ],
   "source": [
    "df_acts.info()"
   ]
  },
  {
   "cell_type": "code",
   "execution_count": 67,
   "metadata": {
    "hidden": true
   },
   "outputs": [],
   "source": [
    "#df_acts.to_csv('data/chembl1978_cnn_activations.csv', index=None)"
   ]
  },
  {
   "cell_type": "markdown",
   "metadata": {
    "heading_collapsed": true
   },
   "source": [
    "# Add molecular fingerprints"
   ]
  },
  {
   "cell_type": "markdown",
   "metadata": {
    "hidden": true
   },
   "source": [
    "When training the random forest below, we'll compare the results obtained by using _molecular fingerprints_ as features describing molecules. See the notebook `dev-noteboos/DL-Example-3-get_molecular_fingerprints_and_images.ipynb` for the code to generate fingerprints."
   ]
  },
  {
   "cell_type": "code",
   "execution_count": 38,
   "metadata": {
    "hidden": true
   },
   "outputs": [],
   "source": [
    "df_ecfp = pd.read_csv(LOCALDATA/'CHEMBL1978_cl_ecfp_1024.csv')"
   ]
  },
  {
   "cell_type": "code",
   "execution_count": 39,
   "metadata": {
    "hidden": true
   },
   "outputs": [
    {
     "data": {
      "text/html": [
       "<div>\n",
       "<style scoped>\n",
       "    .dataframe tbody tr th:only-of-type {\n",
       "        vertical-align: middle;\n",
       "    }\n",
       "\n",
       "    .dataframe tbody tr th {\n",
       "        vertical-align: top;\n",
       "    }\n",
       "\n",
       "    .dataframe thead th {\n",
       "        text-align: right;\n",
       "    }\n",
       "</style>\n",
       "<table border=\"1\" class=\"dataframe\">\n",
       "  <thead>\n",
       "    <tr style=\"text-align: right;\">\n",
       "      <th></th>\n",
       "      <th>CID</th>\n",
       "      <th>SMILES</th>\n",
       "      <th>Activity</th>\n",
       "      <th>ECFP4_1</th>\n",
       "      <th>ECFP4_2</th>\n",
       "      <th>ECFP4_3</th>\n",
       "      <th>ECFP4_4</th>\n",
       "      <th>ECFP4_5</th>\n",
       "      <th>ECFP4_6</th>\n",
       "      <th>ECFP4_7</th>\n",
       "      <th>...</th>\n",
       "      <th>ECFP4_1015</th>\n",
       "      <th>ECFP4_1016</th>\n",
       "      <th>ECFP4_1017</th>\n",
       "      <th>ECFP4_1018</th>\n",
       "      <th>ECFP4_1019</th>\n",
       "      <th>ECFP4_1020</th>\n",
       "      <th>ECFP4_1021</th>\n",
       "      <th>ECFP4_1022</th>\n",
       "      <th>ECFP4_1023</th>\n",
       "      <th>ECFP4_1024</th>\n",
       "    </tr>\n",
       "  </thead>\n",
       "  <tbody>\n",
       "    <tr>\n",
       "      <th>0</th>\n",
       "      <td>CHEMBL1454842</td>\n",
       "      <td>s1nc(nc1-c1ccncc1)-c1ccncc1</td>\n",
       "      <td>1</td>\n",
       "      <td>0</td>\n",
       "      <td>0</td>\n",
       "      <td>0</td>\n",
       "      <td>0</td>\n",
       "      <td>0</td>\n",
       "      <td>0</td>\n",
       "      <td>0</td>\n",
       "      <td>...</td>\n",
       "      <td>0</td>\n",
       "      <td>0</td>\n",
       "      <td>0</td>\n",
       "      <td>0</td>\n",
       "      <td>0</td>\n",
       "      <td>0</td>\n",
       "      <td>0</td>\n",
       "      <td>0</td>\n",
       "      <td>0</td>\n",
       "      <td>0</td>\n",
       "    </tr>\n",
       "    <tr>\n",
       "      <th>1</th>\n",
       "      <td>CHEMBL1939366</td>\n",
       "      <td>s1nc(nc1-c1cccnc1)-c1cccnc1</td>\n",
       "      <td>1</td>\n",
       "      <td>0</td>\n",
       "      <td>0</td>\n",
       "      <td>0</td>\n",
       "      <td>0</td>\n",
       "      <td>0</td>\n",
       "      <td>0</td>\n",
       "      <td>0</td>\n",
       "      <td>...</td>\n",
       "      <td>0</td>\n",
       "      <td>0</td>\n",
       "      <td>0</td>\n",
       "      <td>0</td>\n",
       "      <td>0</td>\n",
       "      <td>0</td>\n",
       "      <td>0</td>\n",
       "      <td>0</td>\n",
       "      <td>0</td>\n",
       "      <td>0</td>\n",
       "    </tr>\n",
       "    <tr>\n",
       "      <th>2</th>\n",
       "      <td>CHEMBL192155</td>\n",
       "      <td>s1cncc1\\C=C\\1/CCc2cc(OC)ccc/12</td>\n",
       "      <td>1</td>\n",
       "      <td>0</td>\n",
       "      <td>0</td>\n",
       "      <td>0</td>\n",
       "      <td>0</td>\n",
       "      <td>0</td>\n",
       "      <td>0</td>\n",
       "      <td>0</td>\n",
       "      <td>...</td>\n",
       "      <td>0</td>\n",
       "      <td>0</td>\n",
       "      <td>0</td>\n",
       "      <td>0</td>\n",
       "      <td>0</td>\n",
       "      <td>0</td>\n",
       "      <td>0</td>\n",
       "      <td>0</td>\n",
       "      <td>0</td>\n",
       "      <td>0</td>\n",
       "    </tr>\n",
       "    <tr>\n",
       "      <th>3</th>\n",
       "      <td>CHEMBL517816</td>\n",
       "      <td>s1cccc1CN(n1ncnc1)Cc1ccc(cc1)C(C)(C)C</td>\n",
       "      <td>1</td>\n",
       "      <td>0</td>\n",
       "      <td>0</td>\n",
       "      <td>0</td>\n",
       "      <td>0</td>\n",
       "      <td>0</td>\n",
       "      <td>0</td>\n",
       "      <td>0</td>\n",
       "      <td>...</td>\n",
       "      <td>0</td>\n",
       "      <td>0</td>\n",
       "      <td>0</td>\n",
       "      <td>0</td>\n",
       "      <td>0</td>\n",
       "      <td>0</td>\n",
       "      <td>0</td>\n",
       "      <td>0</td>\n",
       "      <td>0</td>\n",
       "      <td>0</td>\n",
       "    </tr>\n",
       "    <tr>\n",
       "      <th>4</th>\n",
       "      <td>CHEMBL523973</td>\n",
       "      <td>s1cccc1CN(n1ccnc1)Cc1ccc(cc1)C(C)(C)C</td>\n",
       "      <td>1</td>\n",
       "      <td>0</td>\n",
       "      <td>0</td>\n",
       "      <td>0</td>\n",
       "      <td>0</td>\n",
       "      <td>0</td>\n",
       "      <td>0</td>\n",
       "      <td>0</td>\n",
       "      <td>...</td>\n",
       "      <td>0</td>\n",
       "      <td>0</td>\n",
       "      <td>0</td>\n",
       "      <td>0</td>\n",
       "      <td>0</td>\n",
       "      <td>0</td>\n",
       "      <td>0</td>\n",
       "      <td>0</td>\n",
       "      <td>0</td>\n",
       "      <td>0</td>\n",
       "    </tr>\n",
       "  </tbody>\n",
       "</table>\n",
       "<p>5 rows × 1027 columns</p>\n",
       "</div>"
      ],
      "text/plain": [
       "             CID                                 SMILES  Activity  ECFP4_1  \\\n",
       "0  CHEMBL1454842            s1nc(nc1-c1ccncc1)-c1ccncc1         1        0   \n",
       "1  CHEMBL1939366            s1nc(nc1-c1cccnc1)-c1cccnc1         1        0   \n",
       "2   CHEMBL192155         s1cncc1\\C=C\\1/CCc2cc(OC)ccc/12         1        0   \n",
       "3   CHEMBL517816  s1cccc1CN(n1ncnc1)Cc1ccc(cc1)C(C)(C)C         1        0   \n",
       "4   CHEMBL523973  s1cccc1CN(n1ccnc1)Cc1ccc(cc1)C(C)(C)C         1        0   \n",
       "\n",
       "   ECFP4_2  ECFP4_3  ECFP4_4  ECFP4_5  ECFP4_6  ECFP4_7  ...  ECFP4_1015  \\\n",
       "0        0        0        0        0        0        0  ...           0   \n",
       "1        0        0        0        0        0        0  ...           0   \n",
       "2        0        0        0        0        0        0  ...           0   \n",
       "3        0        0        0        0        0        0  ...           0   \n",
       "4        0        0        0        0        0        0  ...           0   \n",
       "\n",
       "   ECFP4_1016  ECFP4_1017  ECFP4_1018  ECFP4_1019  ECFP4_1020  ECFP4_1021  \\\n",
       "0           0           0           0           0           0           0   \n",
       "1           0           0           0           0           0           0   \n",
       "2           0           0           0           0           0           0   \n",
       "3           0           0           0           0           0           0   \n",
       "4           0           0           0           0           0           0   \n",
       "\n",
       "   ECFP4_1022  ECFP4_1023  ECFP4_1024  \n",
       "0           0           0           0  \n",
       "1           0           0           0  \n",
       "2           0           0           0  \n",
       "3           0           0           0  \n",
       "4           0           0           0  \n",
       "\n",
       "[5 rows x 1027 columns]"
      ]
     },
     "execution_count": 39,
     "metadata": {},
     "output_type": "execute_result"
    }
   ],
   "source": [
    "df_ecfp.head()"
   ]
  },
  {
   "cell_type": "code",
   "execution_count": 40,
   "metadata": {
    "hidden": true
   },
   "outputs": [
    {
     "name": "stdout",
     "output_type": "stream",
     "text": [
      "<class 'pandas.core.frame.DataFrame'>\n",
      "RangeIndex: 6831 entries, 0 to 6830\n",
      "Columns: 1027 entries, CID to ECFP4_1024\n",
      "dtypes: int64(1025), object(2)\n",
      "memory usage: 53.5+ MB\n"
     ]
    }
   ],
   "source": [
    "df_ecfp.info()"
   ]
  },
  {
   "cell_type": "code",
   "execution_count": 41,
   "metadata": {
    "hidden": true
   },
   "outputs": [
    {
     "name": "stdout",
     "output_type": "stream",
     "text": [
      "<class 'pandas.core.frame.DataFrame'>\n",
      "RangeIndex: 6831 entries, 0 to 6830\n",
      "Columns: 133 entries, CID to act_127\n",
      "dtypes: bool(1), float64(128), int64(1), object(3)\n",
      "memory usage: 6.9+ MB\n"
     ]
    }
   ],
   "source": [
    "df_acts.info()"
   ]
  },
  {
   "cell_type": "code",
   "execution_count": 42,
   "metadata": {
    "hidden": true
   },
   "outputs": [],
   "source": [
    "df = df_ecfp.merge(df_acts, on='CID')"
   ]
  },
  {
   "cell_type": "code",
   "execution_count": 43,
   "metadata": {
    "hidden": true
   },
   "outputs": [
    {
     "data": {
      "text/html": [
       "<div>\n",
       "<style scoped>\n",
       "    .dataframe tbody tr th:only-of-type {\n",
       "        vertical-align: middle;\n",
       "    }\n",
       "\n",
       "    .dataframe tbody tr th {\n",
       "        vertical-align: top;\n",
       "    }\n",
       "\n",
       "    .dataframe thead th {\n",
       "        text-align: right;\n",
       "    }\n",
       "</style>\n",
       "<table border=\"1\" class=\"dataframe\">\n",
       "  <thead>\n",
       "    <tr style=\"text-align: right;\">\n",
       "      <th></th>\n",
       "      <th>CID</th>\n",
       "      <th>SMILES_x</th>\n",
       "      <th>Activity_x</th>\n",
       "      <th>ECFP4_1</th>\n",
       "      <th>ECFP4_2</th>\n",
       "      <th>ECFP4_3</th>\n",
       "      <th>ECFP4_4</th>\n",
       "      <th>ECFP4_5</th>\n",
       "      <th>ECFP4_6</th>\n",
       "      <th>ECFP4_7</th>\n",
       "      <th>...</th>\n",
       "      <th>act_118</th>\n",
       "      <th>act_119</th>\n",
       "      <th>act_120</th>\n",
       "      <th>act_121</th>\n",
       "      <th>act_122</th>\n",
       "      <th>act_123</th>\n",
       "      <th>act_124</th>\n",
       "      <th>act_125</th>\n",
       "      <th>act_126</th>\n",
       "      <th>act_127</th>\n",
       "    </tr>\n",
       "  </thead>\n",
       "  <tbody>\n",
       "    <tr>\n",
       "      <th>0</th>\n",
       "      <td>CHEMBL1454842</td>\n",
       "      <td>s1nc(nc1-c1ccncc1)-c1ccncc1</td>\n",
       "      <td>1</td>\n",
       "      <td>0</td>\n",
       "      <td>0</td>\n",
       "      <td>0</td>\n",
       "      <td>0</td>\n",
       "      <td>0</td>\n",
       "      <td>0</td>\n",
       "      <td>0</td>\n",
       "      <td>...</td>\n",
       "      <td>-26.087261</td>\n",
       "      <td>10.845460</td>\n",
       "      <td>-16.769337</td>\n",
       "      <td>-27.859449</td>\n",
       "      <td>22.668242</td>\n",
       "      <td>9.978525</td>\n",
       "      <td>20.189241</td>\n",
       "      <td>29.793533</td>\n",
       "      <td>11.848484</td>\n",
       "      <td>22.452715</td>\n",
       "    </tr>\n",
       "    <tr>\n",
       "      <th>1</th>\n",
       "      <td>CHEMBL1939366</td>\n",
       "      <td>s1nc(nc1-c1cccnc1)-c1cccnc1</td>\n",
       "      <td>1</td>\n",
       "      <td>0</td>\n",
       "      <td>0</td>\n",
       "      <td>0</td>\n",
       "      <td>0</td>\n",
       "      <td>0</td>\n",
       "      <td>0</td>\n",
       "      <td>0</td>\n",
       "      <td>...</td>\n",
       "      <td>-4.451060</td>\n",
       "      <td>17.848938</td>\n",
       "      <td>-31.413528</td>\n",
       "      <td>-10.253824</td>\n",
       "      <td>25.925531</td>\n",
       "      <td>-5.185490</td>\n",
       "      <td>9.071753</td>\n",
       "      <td>43.889679</td>\n",
       "      <td>17.232124</td>\n",
       "      <td>35.617458</td>\n",
       "    </tr>\n",
       "    <tr>\n",
       "      <th>2</th>\n",
       "      <td>CHEMBL192155</td>\n",
       "      <td>s1cncc1\\C=C\\1/CCc2cc(OC)ccc/12</td>\n",
       "      <td>1</td>\n",
       "      <td>0</td>\n",
       "      <td>0</td>\n",
       "      <td>0</td>\n",
       "      <td>0</td>\n",
       "      <td>0</td>\n",
       "      <td>0</td>\n",
       "      <td>0</td>\n",
       "      <td>...</td>\n",
       "      <td>-12.291193</td>\n",
       "      <td>20.940042</td>\n",
       "      <td>7.085035</td>\n",
       "      <td>-23.009224</td>\n",
       "      <td>30.580616</td>\n",
       "      <td>5.500651</td>\n",
       "      <td>27.811693</td>\n",
       "      <td>34.743080</td>\n",
       "      <td>-0.426268</td>\n",
       "      <td>14.223265</td>\n",
       "    </tr>\n",
       "    <tr>\n",
       "      <th>3</th>\n",
       "      <td>CHEMBL517816</td>\n",
       "      <td>s1cccc1CN(n1ncnc1)Cc1ccc(cc1)C(C)(C)C</td>\n",
       "      <td>1</td>\n",
       "      <td>0</td>\n",
       "      <td>0</td>\n",
       "      <td>0</td>\n",
       "      <td>0</td>\n",
       "      <td>0</td>\n",
       "      <td>0</td>\n",
       "      <td>0</td>\n",
       "      <td>...</td>\n",
       "      <td>-30.099443</td>\n",
       "      <td>10.059969</td>\n",
       "      <td>-16.107344</td>\n",
       "      <td>-23.143013</td>\n",
       "      <td>32.467686</td>\n",
       "      <td>18.741871</td>\n",
       "      <td>15.052759</td>\n",
       "      <td>50.799931</td>\n",
       "      <td>2.927256</td>\n",
       "      <td>27.810600</td>\n",
       "    </tr>\n",
       "    <tr>\n",
       "      <th>4</th>\n",
       "      <td>CHEMBL523973</td>\n",
       "      <td>s1cccc1CN(n1ccnc1)Cc1ccc(cc1)C(C)(C)C</td>\n",
       "      <td>1</td>\n",
       "      <td>0</td>\n",
       "      <td>0</td>\n",
       "      <td>0</td>\n",
       "      <td>0</td>\n",
       "      <td>0</td>\n",
       "      <td>0</td>\n",
       "      <td>0</td>\n",
       "      <td>...</td>\n",
       "      <td>-24.011885</td>\n",
       "      <td>18.602715</td>\n",
       "      <td>-16.238585</td>\n",
       "      <td>-25.184177</td>\n",
       "      <td>41.306664</td>\n",
       "      <td>-1.612225</td>\n",
       "      <td>17.429197</td>\n",
       "      <td>53.076782</td>\n",
       "      <td>-0.566382</td>\n",
       "      <td>34.914177</td>\n",
       "    </tr>\n",
       "  </tbody>\n",
       "</table>\n",
       "<p>5 rows × 1159 columns</p>\n",
       "</div>"
      ],
      "text/plain": [
       "             CID                               SMILES_x  Activity_x  ECFP4_1  \\\n",
       "0  CHEMBL1454842            s1nc(nc1-c1ccncc1)-c1ccncc1           1        0   \n",
       "1  CHEMBL1939366            s1nc(nc1-c1cccnc1)-c1cccnc1           1        0   \n",
       "2   CHEMBL192155         s1cncc1\\C=C\\1/CCc2cc(OC)ccc/12           1        0   \n",
       "3   CHEMBL517816  s1cccc1CN(n1ncnc1)Cc1ccc(cc1)C(C)(C)C           1        0   \n",
       "4   CHEMBL523973  s1cccc1CN(n1ccnc1)Cc1ccc(cc1)C(C)(C)C           1        0   \n",
       "\n",
       "   ECFP4_2  ECFP4_3  ECFP4_4  ECFP4_5  ECFP4_6  ECFP4_7  ...    act_118  \\\n",
       "0        0        0        0        0        0        0  ... -26.087261   \n",
       "1        0        0        0        0        0        0  ...  -4.451060   \n",
       "2        0        0        0        0        0        0  ... -12.291193   \n",
       "3        0        0        0        0        0        0  ... -30.099443   \n",
       "4        0        0        0        0        0        0  ... -24.011885   \n",
       "\n",
       "     act_119    act_120    act_121    act_122    act_123    act_124  \\\n",
       "0  10.845460 -16.769337 -27.859449  22.668242   9.978525  20.189241   \n",
       "1  17.848938 -31.413528 -10.253824  25.925531  -5.185490   9.071753   \n",
       "2  20.940042   7.085035 -23.009224  30.580616   5.500651  27.811693   \n",
       "3  10.059969 -16.107344 -23.143013  32.467686  18.741871  15.052759   \n",
       "4  18.602715 -16.238585 -25.184177  41.306664  -1.612225  17.429197   \n",
       "\n",
       "     act_125    act_126    act_127  \n",
       "0  29.793533  11.848484  22.452715  \n",
       "1  43.889679  17.232124  35.617458  \n",
       "2  34.743080  -0.426268  14.223265  \n",
       "3  50.799931   2.927256  27.810600  \n",
       "4  53.076782  -0.566382  34.914177  \n",
       "\n",
       "[5 rows x 1159 columns]"
      ]
     },
     "execution_count": 43,
     "metadata": {},
     "output_type": "execute_result"
    }
   ],
   "source": [
    "df.head()"
   ]
  },
  {
   "cell_type": "code",
   "execution_count": 44,
   "metadata": {
    "hidden": true
   },
   "outputs": [],
   "source": [
    "df.drop(['SMILES_y', \"Activity_y\"], axis=1, inplace=True)"
   ]
  },
  {
   "cell_type": "code",
   "execution_count": 45,
   "metadata": {
    "hidden": true
   },
   "outputs": [
    {
     "data": {
      "text/html": [
       "<div>\n",
       "<style scoped>\n",
       "    .dataframe tbody tr th:only-of-type {\n",
       "        vertical-align: middle;\n",
       "    }\n",
       "\n",
       "    .dataframe tbody tr th {\n",
       "        vertical-align: top;\n",
       "    }\n",
       "\n",
       "    .dataframe thead th {\n",
       "        text-align: right;\n",
       "    }\n",
       "</style>\n",
       "<table border=\"1\" class=\"dataframe\">\n",
       "  <thead>\n",
       "    <tr style=\"text-align: right;\">\n",
       "      <th></th>\n",
       "      <th>CID</th>\n",
       "      <th>SMILES_x</th>\n",
       "      <th>Activity_x</th>\n",
       "      <th>ECFP4_1</th>\n",
       "      <th>ECFP4_2</th>\n",
       "      <th>ECFP4_3</th>\n",
       "      <th>ECFP4_4</th>\n",
       "      <th>ECFP4_5</th>\n",
       "      <th>ECFP4_6</th>\n",
       "      <th>ECFP4_7</th>\n",
       "      <th>...</th>\n",
       "      <th>act_118</th>\n",
       "      <th>act_119</th>\n",
       "      <th>act_120</th>\n",
       "      <th>act_121</th>\n",
       "      <th>act_122</th>\n",
       "      <th>act_123</th>\n",
       "      <th>act_124</th>\n",
       "      <th>act_125</th>\n",
       "      <th>act_126</th>\n",
       "      <th>act_127</th>\n",
       "    </tr>\n",
       "  </thead>\n",
       "  <tbody>\n",
       "    <tr>\n",
       "      <th>0</th>\n",
       "      <td>CHEMBL1454842</td>\n",
       "      <td>s1nc(nc1-c1ccncc1)-c1ccncc1</td>\n",
       "      <td>1</td>\n",
       "      <td>0</td>\n",
       "      <td>0</td>\n",
       "      <td>0</td>\n",
       "      <td>0</td>\n",
       "      <td>0</td>\n",
       "      <td>0</td>\n",
       "      <td>0</td>\n",
       "      <td>...</td>\n",
       "      <td>-26.087261</td>\n",
       "      <td>10.845460</td>\n",
       "      <td>-16.769337</td>\n",
       "      <td>-27.859449</td>\n",
       "      <td>22.668242</td>\n",
       "      <td>9.978525</td>\n",
       "      <td>20.189241</td>\n",
       "      <td>29.793533</td>\n",
       "      <td>11.848484</td>\n",
       "      <td>22.452715</td>\n",
       "    </tr>\n",
       "    <tr>\n",
       "      <th>1</th>\n",
       "      <td>CHEMBL1939366</td>\n",
       "      <td>s1nc(nc1-c1cccnc1)-c1cccnc1</td>\n",
       "      <td>1</td>\n",
       "      <td>0</td>\n",
       "      <td>0</td>\n",
       "      <td>0</td>\n",
       "      <td>0</td>\n",
       "      <td>0</td>\n",
       "      <td>0</td>\n",
       "      <td>0</td>\n",
       "      <td>...</td>\n",
       "      <td>-4.451060</td>\n",
       "      <td>17.848938</td>\n",
       "      <td>-31.413528</td>\n",
       "      <td>-10.253824</td>\n",
       "      <td>25.925531</td>\n",
       "      <td>-5.185490</td>\n",
       "      <td>9.071753</td>\n",
       "      <td>43.889679</td>\n",
       "      <td>17.232124</td>\n",
       "      <td>35.617458</td>\n",
       "    </tr>\n",
       "    <tr>\n",
       "      <th>2</th>\n",
       "      <td>CHEMBL192155</td>\n",
       "      <td>s1cncc1\\C=C\\1/CCc2cc(OC)ccc/12</td>\n",
       "      <td>1</td>\n",
       "      <td>0</td>\n",
       "      <td>0</td>\n",
       "      <td>0</td>\n",
       "      <td>0</td>\n",
       "      <td>0</td>\n",
       "      <td>0</td>\n",
       "      <td>0</td>\n",
       "      <td>...</td>\n",
       "      <td>-12.291193</td>\n",
       "      <td>20.940042</td>\n",
       "      <td>7.085035</td>\n",
       "      <td>-23.009224</td>\n",
       "      <td>30.580616</td>\n",
       "      <td>5.500651</td>\n",
       "      <td>27.811693</td>\n",
       "      <td>34.743080</td>\n",
       "      <td>-0.426268</td>\n",
       "      <td>14.223265</td>\n",
       "    </tr>\n",
       "    <tr>\n",
       "      <th>3</th>\n",
       "      <td>CHEMBL517816</td>\n",
       "      <td>s1cccc1CN(n1ncnc1)Cc1ccc(cc1)C(C)(C)C</td>\n",
       "      <td>1</td>\n",
       "      <td>0</td>\n",
       "      <td>0</td>\n",
       "      <td>0</td>\n",
       "      <td>0</td>\n",
       "      <td>0</td>\n",
       "      <td>0</td>\n",
       "      <td>0</td>\n",
       "      <td>...</td>\n",
       "      <td>-30.099443</td>\n",
       "      <td>10.059969</td>\n",
       "      <td>-16.107344</td>\n",
       "      <td>-23.143013</td>\n",
       "      <td>32.467686</td>\n",
       "      <td>18.741871</td>\n",
       "      <td>15.052759</td>\n",
       "      <td>50.799931</td>\n",
       "      <td>2.927256</td>\n",
       "      <td>27.810600</td>\n",
       "    </tr>\n",
       "    <tr>\n",
       "      <th>4</th>\n",
       "      <td>CHEMBL523973</td>\n",
       "      <td>s1cccc1CN(n1ccnc1)Cc1ccc(cc1)C(C)(C)C</td>\n",
       "      <td>1</td>\n",
       "      <td>0</td>\n",
       "      <td>0</td>\n",
       "      <td>0</td>\n",
       "      <td>0</td>\n",
       "      <td>0</td>\n",
       "      <td>0</td>\n",
       "      <td>0</td>\n",
       "      <td>...</td>\n",
       "      <td>-24.011885</td>\n",
       "      <td>18.602715</td>\n",
       "      <td>-16.238585</td>\n",
       "      <td>-25.184177</td>\n",
       "      <td>41.306664</td>\n",
       "      <td>-1.612225</td>\n",
       "      <td>17.429197</td>\n",
       "      <td>53.076782</td>\n",
       "      <td>-0.566382</td>\n",
       "      <td>34.914177</td>\n",
       "    </tr>\n",
       "  </tbody>\n",
       "</table>\n",
       "<p>5 rows × 1157 columns</p>\n",
       "</div>"
      ],
      "text/plain": [
       "             CID                               SMILES_x  Activity_x  ECFP4_1  \\\n",
       "0  CHEMBL1454842            s1nc(nc1-c1ccncc1)-c1ccncc1           1        0   \n",
       "1  CHEMBL1939366            s1nc(nc1-c1cccnc1)-c1cccnc1           1        0   \n",
       "2   CHEMBL192155         s1cncc1\\C=C\\1/CCc2cc(OC)ccc/12           1        0   \n",
       "3   CHEMBL517816  s1cccc1CN(n1ncnc1)Cc1ccc(cc1)C(C)(C)C           1        0   \n",
       "4   CHEMBL523973  s1cccc1CN(n1ccnc1)Cc1ccc(cc1)C(C)(C)C           1        0   \n",
       "\n",
       "   ECFP4_2  ECFP4_3  ECFP4_4  ECFP4_5  ECFP4_6  ECFP4_7  ...    act_118  \\\n",
       "0        0        0        0        0        0        0  ... -26.087261   \n",
       "1        0        0        0        0        0        0  ...  -4.451060   \n",
       "2        0        0        0        0        0        0  ... -12.291193   \n",
       "3        0        0        0        0        0        0  ... -30.099443   \n",
       "4        0        0        0        0        0        0  ... -24.011885   \n",
       "\n",
       "     act_119    act_120    act_121    act_122    act_123    act_124  \\\n",
       "0  10.845460 -16.769337 -27.859449  22.668242   9.978525  20.189241   \n",
       "1  17.848938 -31.413528 -10.253824  25.925531  -5.185490   9.071753   \n",
       "2  20.940042   7.085035 -23.009224  30.580616   5.500651  27.811693   \n",
       "3  10.059969 -16.107344 -23.143013  32.467686  18.741871  15.052759   \n",
       "4  18.602715 -16.238585 -25.184177  41.306664  -1.612225  17.429197   \n",
       "\n",
       "     act_125    act_126    act_127  \n",
       "0  29.793533  11.848484  22.452715  \n",
       "1  43.889679  17.232124  35.617458  \n",
       "2  34.743080  -0.426268  14.223265  \n",
       "3  50.799931   2.927256  27.810600  \n",
       "4  53.076782  -0.566382  34.914177  \n",
       "\n",
       "[5 rows x 1157 columns]"
      ]
     },
     "execution_count": 45,
     "metadata": {},
     "output_type": "execute_result"
    }
   ],
   "source": [
    "df.head()"
   ]
  },
  {
   "cell_type": "code",
   "execution_count": 46,
   "metadata": {
    "hidden": true
   },
   "outputs": [],
   "source": [
    "df.rename(columns={'SMILES_x': 'SMILES', 'Activity_x': 'Activity'}, inplace=True)"
   ]
  },
  {
   "cell_type": "markdown",
   "metadata": {
    "hidden": true
   },
   "source": [
    "Save the dataframe:"
   ]
  },
  {
   "cell_type": "code",
   "execution_count": 47,
   "metadata": {
    "hidden": true
   },
   "outputs": [
    {
     "data": {
      "text/plain": [
       "Path('/home/ubuntu/Dropbox/medGPU-alex/DLN-AI-2021-dev/MMIV-DLN-AI-2021/1-deep_learning/dev-notebooks/data/drug/interim')"
      ]
     },
     "execution_count": 47,
     "metadata": {},
     "output_type": "execute_result"
    }
   ],
   "source": [
    "LOCALDATA"
   ]
  },
  {
   "cell_type": "code",
   "execution_count": 48,
   "metadata": {
    "hidden": true
   },
   "outputs": [],
   "source": [
    "df.to_csv(LOCALDATA/'chembl1978-data-with-ecfp-activations.csv', index=None)"
   ]
  },
  {
   "cell_type": "markdown",
   "metadata": {
    "heading_collapsed": true
   },
   "source": [
    "# Train machine learning models on extracted features"
   ]
  },
  {
   "cell_type": "markdown",
   "metadata": {
    "heading_collapsed": true,
    "hidden": true
   },
   "source": [
    "### Split the data"
   ]
  },
  {
   "cell_type": "markdown",
   "metadata": {
    "hidden": true
   },
   "source": [
    "We use the validation data from the CNN model as test data (as it's unseen by the CNN model during training)."
   ]
  },
  {
   "cell_type": "code",
   "execution_count": 49,
   "metadata": {
    "hidden": true
   },
   "outputs": [],
   "source": [
    "train = df.loc[df.is_valid==False]\n",
    "test = df.loc[df.is_valid==True]"
   ]
  },
  {
   "cell_type": "code",
   "execution_count": 50,
   "metadata": {
    "hidden": true
   },
   "outputs": [],
   "source": [
    "X_train, y_train = train.drop([\"CID\", \"SMILES\", \"Activity\", \"Image\"], axis=1), train[\"Activity\"]"
   ]
  },
  {
   "cell_type": "code",
   "execution_count": 51,
   "metadata": {
    "hidden": true
   },
   "outputs": [],
   "source": [
    "X_test, y_test = test.drop([\"CID\", \"SMILES\", \"Activity\", \"Image\"], axis=1), test[\"Activity\"]"
   ]
  },
  {
   "cell_type": "code",
   "execution_count": 52,
   "metadata": {
    "hidden": true
   },
   "outputs": [
    {
     "data": {
      "text/html": [
       "<div>\n",
       "<style scoped>\n",
       "    .dataframe tbody tr th:only-of-type {\n",
       "        vertical-align: middle;\n",
       "    }\n",
       "\n",
       "    .dataframe tbody tr th {\n",
       "        vertical-align: top;\n",
       "    }\n",
       "\n",
       "    .dataframe thead th {\n",
       "        text-align: right;\n",
       "    }\n",
       "</style>\n",
       "<table border=\"1\" class=\"dataframe\">\n",
       "  <thead>\n",
       "    <tr style=\"text-align: right;\">\n",
       "      <th></th>\n",
       "      <th>ECFP4_1</th>\n",
       "      <th>ECFP4_2</th>\n",
       "      <th>ECFP4_3</th>\n",
       "      <th>ECFP4_4</th>\n",
       "      <th>ECFP4_5</th>\n",
       "      <th>ECFP4_6</th>\n",
       "      <th>ECFP4_7</th>\n",
       "      <th>ECFP4_8</th>\n",
       "      <th>ECFP4_9</th>\n",
       "      <th>ECFP4_10</th>\n",
       "      <th>...</th>\n",
       "      <th>act_118</th>\n",
       "      <th>act_119</th>\n",
       "      <th>act_120</th>\n",
       "      <th>act_121</th>\n",
       "      <th>act_122</th>\n",
       "      <th>act_123</th>\n",
       "      <th>act_124</th>\n",
       "      <th>act_125</th>\n",
       "      <th>act_126</th>\n",
       "      <th>act_127</th>\n",
       "    </tr>\n",
       "  </thead>\n",
       "  <tbody>\n",
       "    <tr>\n",
       "      <th>1</th>\n",
       "      <td>0</td>\n",
       "      <td>0</td>\n",
       "      <td>0</td>\n",
       "      <td>0</td>\n",
       "      <td>0</td>\n",
       "      <td>0</td>\n",
       "      <td>0</td>\n",
       "      <td>0</td>\n",
       "      <td>0</td>\n",
       "      <td>0</td>\n",
       "      <td>...</td>\n",
       "      <td>-4.451060</td>\n",
       "      <td>17.848938</td>\n",
       "      <td>-31.413528</td>\n",
       "      <td>-10.253824</td>\n",
       "      <td>25.925531</td>\n",
       "      <td>-5.185490</td>\n",
       "      <td>9.071753</td>\n",
       "      <td>43.889679</td>\n",
       "      <td>17.232124</td>\n",
       "      <td>35.617458</td>\n",
       "    </tr>\n",
       "    <tr>\n",
       "      <th>3</th>\n",
       "      <td>0</td>\n",
       "      <td>0</td>\n",
       "      <td>0</td>\n",
       "      <td>0</td>\n",
       "      <td>0</td>\n",
       "      <td>0</td>\n",
       "      <td>0</td>\n",
       "      <td>0</td>\n",
       "      <td>0</td>\n",
       "      <td>0</td>\n",
       "      <td>...</td>\n",
       "      <td>-30.099443</td>\n",
       "      <td>10.059969</td>\n",
       "      <td>-16.107344</td>\n",
       "      <td>-23.143013</td>\n",
       "      <td>32.467686</td>\n",
       "      <td>18.741871</td>\n",
       "      <td>15.052759</td>\n",
       "      <td>50.799931</td>\n",
       "      <td>2.927256</td>\n",
       "      <td>27.810600</td>\n",
       "    </tr>\n",
       "    <tr>\n",
       "      <th>4</th>\n",
       "      <td>0</td>\n",
       "      <td>0</td>\n",
       "      <td>0</td>\n",
       "      <td>0</td>\n",
       "      <td>0</td>\n",
       "      <td>0</td>\n",
       "      <td>0</td>\n",
       "      <td>0</td>\n",
       "      <td>0</td>\n",
       "      <td>0</td>\n",
       "      <td>...</td>\n",
       "      <td>-24.011885</td>\n",
       "      <td>18.602715</td>\n",
       "      <td>-16.238585</td>\n",
       "      <td>-25.184177</td>\n",
       "      <td>41.306664</td>\n",
       "      <td>-1.612225</td>\n",
       "      <td>17.429197</td>\n",
       "      <td>53.076782</td>\n",
       "      <td>-0.566382</td>\n",
       "      <td>34.914177</td>\n",
       "    </tr>\n",
       "    <tr>\n",
       "      <th>5</th>\n",
       "      <td>0</td>\n",
       "      <td>0</td>\n",
       "      <td>0</td>\n",
       "      <td>0</td>\n",
       "      <td>0</td>\n",
       "      <td>0</td>\n",
       "      <td>0</td>\n",
       "      <td>0</td>\n",
       "      <td>0</td>\n",
       "      <td>0</td>\n",
       "      <td>...</td>\n",
       "      <td>-24.548574</td>\n",
       "      <td>29.396210</td>\n",
       "      <td>-27.249018</td>\n",
       "      <td>-26.106590</td>\n",
       "      <td>34.966820</td>\n",
       "      <td>-4.800174</td>\n",
       "      <td>32.564442</td>\n",
       "      <td>47.004269</td>\n",
       "      <td>8.783585</td>\n",
       "      <td>33.251316</td>\n",
       "    </tr>\n",
       "    <tr>\n",
       "      <th>8</th>\n",
       "      <td>0</td>\n",
       "      <td>0</td>\n",
       "      <td>0</td>\n",
       "      <td>0</td>\n",
       "      <td>0</td>\n",
       "      <td>0</td>\n",
       "      <td>0</td>\n",
       "      <td>0</td>\n",
       "      <td>0</td>\n",
       "      <td>0</td>\n",
       "      <td>...</td>\n",
       "      <td>-16.842392</td>\n",
       "      <td>33.022118</td>\n",
       "      <td>-12.352568</td>\n",
       "      <td>-29.601570</td>\n",
       "      <td>10.848252</td>\n",
       "      <td>4.141723</td>\n",
       "      <td>10.873550</td>\n",
       "      <td>13.986954</td>\n",
       "      <td>14.547134</td>\n",
       "      <td>4.099521</td>\n",
       "    </tr>\n",
       "  </tbody>\n",
       "</table>\n",
       "<p>5 rows × 1153 columns</p>\n",
       "</div>"
      ],
      "text/plain": [
       "   ECFP4_1  ECFP4_2  ECFP4_3  ECFP4_4  ECFP4_5  ECFP4_6  ECFP4_7  ECFP4_8  \\\n",
       "1        0        0        0        0        0        0        0        0   \n",
       "3        0        0        0        0        0        0        0        0   \n",
       "4        0        0        0        0        0        0        0        0   \n",
       "5        0        0        0        0        0        0        0        0   \n",
       "8        0        0        0        0        0        0        0        0   \n",
       "\n",
       "   ECFP4_9  ECFP4_10  ...    act_118    act_119    act_120    act_121  \\\n",
       "1        0         0  ...  -4.451060  17.848938 -31.413528 -10.253824   \n",
       "3        0         0  ... -30.099443  10.059969 -16.107344 -23.143013   \n",
       "4        0         0  ... -24.011885  18.602715 -16.238585 -25.184177   \n",
       "5        0         0  ... -24.548574  29.396210 -27.249018 -26.106590   \n",
       "8        0         0  ... -16.842392  33.022118 -12.352568 -29.601570   \n",
       "\n",
       "     act_122    act_123    act_124    act_125    act_126    act_127  \n",
       "1  25.925531  -5.185490   9.071753  43.889679  17.232124  35.617458  \n",
       "3  32.467686  18.741871  15.052759  50.799931   2.927256  27.810600  \n",
       "4  41.306664  -1.612225  17.429197  53.076782  -0.566382  34.914177  \n",
       "5  34.966820  -4.800174  32.564442  47.004269   8.783585  33.251316  \n",
       "8  10.848252   4.141723  10.873550  13.986954  14.547134   4.099521  \n",
       "\n",
       "[5 rows x 1153 columns]"
      ]
     },
     "execution_count": 52,
     "metadata": {},
     "output_type": "execute_result"
    }
   ],
   "source": [
    "X_train.head()"
   ]
  },
  {
   "cell_type": "code",
   "execution_count": 53,
   "metadata": {
    "hidden": true
   },
   "outputs": [
    {
     "data": {
      "text/plain": [
       "1    1\n",
       "3    1\n",
       "4    1\n",
       "5    1\n",
       "8    1\n",
       "Name: Activity, dtype: int64"
      ]
     },
     "execution_count": 53,
     "metadata": {},
     "output_type": "execute_result"
    }
   ],
   "source": [
    "y_train.head()"
   ]
  },
  {
   "cell_type": "markdown",
   "metadata": {
    "heading_collapsed": true,
    "hidden": true
   },
   "source": [
    "### Logistic Regression and Random forest"
   ]
  },
  {
   "cell_type": "code",
   "execution_count": 54,
   "metadata": {
    "hidden": true
   },
   "outputs": [],
   "source": [
    "from sklearn.linear_model import LogisticRegression\n",
    "from sklearn.ensemble import RandomForestClassifier\n",
    "from sklearn.preprocessing import StandardScaler"
   ]
  },
  {
   "cell_type": "code",
   "execution_count": 55,
   "metadata": {
    "hidden": true
   },
   "outputs": [],
   "source": [
    "from sklearn.metrics import (roc_auc_score, accuracy_score, recall_score, \n",
    "matthews_corrcoef, precision_score, f1_score)"
   ]
  },
  {
   "cell_type": "code",
   "execution_count": 56,
   "metadata": {
    "hidden": true
   },
   "outputs": [],
   "source": [
    "def train_lr(X_train, X_test, y_train, y_test, features='ECFP'):\n",
    "    \n",
    "    if features!='all':\n",
    "        X_train = X_train[[c for c in X_train.columns if features in c]]\n",
    "        X_test = X_test[[c for c in X_test.columns if features in c]]\n",
    "        print(f'Training on {len(X_train.columns)} features\\n')\n",
    "    else:\n",
    "        print(f'Training on all {len(X_train.columns)} ECFP and CNN features\\n')\n",
    "    \n",
    "    # Must scale the data for the linear logreg model:\n",
    "    sc = StandardScaler()\n",
    "    X_train_std = sc.fit_transform(X_train)\n",
    "    X_test_std = sc.transform(X_test)\n",
    "    \n",
    "    \n",
    "    lr = LogisticRegression(max_iter=500)\n",
    "  \n",
    "    lr.fit(X_train_std, y_train)\n",
    "    \n",
    "    y_pred = lr.predict(X_test_std)\n",
    "    y_pred_prob = lr.predict_proba(X_test_std)\n",
    "    \n",
    "    temp=[]\n",
    "    for j in range(len(y_pred_prob)):\n",
    "    \ttemp.append(y_pred_prob[j][1])\n",
    "    auc=roc_auc_score(np.array(y_test),np.array(temp))\n",
    "    acc2=accuracy_score(y_test,y_pred)\n",
    "    mcc=matthews_corrcoef(y_test,y_pred)\n",
    "    Recall=recall_score(y_test, y_pred,pos_label=1)\n",
    "    Precision=precision_score(y_test, y_pred,pos_label=1)\n",
    "    F1_score=f1_score(y_test, y_pred,pos_label=1)\n",
    "\n",
    "    return auc,acc2,mcc,Recall,Precision,F1_score, lr"
   ]
  },
  {
   "cell_type": "code",
   "execution_count": 57,
   "metadata": {
    "hidden": true
   },
   "outputs": [],
   "source": [
    "def train_rf(X_train, X_test, y_train, y_test, n_estimators=100, \n",
    "             criterion='gini', max_features='log2', features='ECFP'):\n",
    "    \n",
    "    if features!='all':\n",
    "        X_train = X_train[[c for c in X_train.columns if features in c]]\n",
    "        X_test = X_test[[c for c in X_test.columns if features in c]]\n",
    "        print(f'Training on {len(X_train.columns)} features\\n')\n",
    "    else:\n",
    "        print(f'Training on all {len(X_train.columns)} ECFP and CNN features\\n')\n",
    "    \n",
    "    # Following the settings in the paper, `RF_tune.py`\n",
    "    rf = RandomForestClassifier(n_estimators=n_estimators, criterion=criterion, min_samples_split=2, \n",
    "                                    max_features=max_features, max_leaf_nodes=None, \n",
    "                                    bootstrap=False,oob_score=False, n_jobs=-1, \n",
    "                                    random_state=100)\n",
    "    \n",
    "    rf.fit(X_train, y_train)\n",
    "    \n",
    "    y_pred = rf.predict(X_test)\n",
    "    y_pred_prob = rf.predict_proba(X_test)\n",
    "    \n",
    "    temp=[]\n",
    "    for j in range(len(y_pred_prob)):\n",
    "    \ttemp.append(y_pred_prob[j][1])\n",
    "    auc=roc_auc_score(np.array(y_test),np.array(temp))\n",
    "    acc2=accuracy_score(y_test,y_pred)\n",
    "    mcc=matthews_corrcoef(y_test,y_pred)\n",
    "    Recall=recall_score(y_test, y_pred,pos_label=1)\n",
    "    Precision=precision_score(y_test, y_pred,pos_label=1)\n",
    "    F1_score=f1_score(y_test, y_pred,pos_label=1)\n",
    "\n",
    "    return auc,acc2,mcc,Recall,Precision,F1_score, rf"
   ]
  },
  {
   "cell_type": "markdown",
   "metadata": {
    "hidden": true
   },
   "source": [
    "**Logistic regression:**"
   ]
  },
  {
   "cell_type": "code",
   "execution_count": 58,
   "metadata": {
    "hidden": true
   },
   "outputs": [
    {
     "name": "stdout",
     "output_type": "stream",
     "text": [
      "Training on 1024 features\n",
      "\n"
     ]
    },
    {
     "data": {
      "text/plain": [
       "(0.9844421826641464,\n",
       " 0.9754098360655737,\n",
       " 0.8518754972513235,\n",
       " 0.8709677419354839,\n",
       " 0.8598726114649682,\n",
       " 0.8653846153846154,\n",
       " LogisticRegression(max_iter=500))"
      ]
     },
     "execution_count": 58,
     "metadata": {},
     "output_type": "execute_result"
    }
   ],
   "source": [
    "train_lr(X_train, X_test, y_train, y_test, features='ECFP')"
   ]
  },
  {
   "cell_type": "code",
   "execution_count": 59,
   "metadata": {
    "hidden": true
   },
   "outputs": [
    {
     "name": "stdout",
     "output_type": "stream",
     "text": [
      "Training on 128 features\n",
      "\n"
     ]
    },
    {
     "data": {
      "text/plain": [
       "(0.9810813617763745,\n",
       " 0.9707259953161592,\n",
       " 0.8161893121465061,\n",
       " 0.7935483870967742,\n",
       " 0.8723404255319149,\n",
       " 0.8310810810810813,\n",
       " LogisticRegression(max_iter=500))"
      ]
     },
     "execution_count": 59,
     "metadata": {},
     "output_type": "execute_result"
    }
   ],
   "source": [
    "train_lr(X_train, X_test, y_train, y_test, features='act_')"
   ]
  },
  {
   "cell_type": "code",
   "execution_count": 60,
   "metadata": {
    "hidden": true
   },
   "outputs": [
    {
     "name": "stdout",
     "output_type": "stream",
     "text": [
      "Training on all 1153 ECFP and CNN features\n",
      "\n"
     ]
    },
    {
     "data": {
      "text/plain": [
       "(0.9854807552499844,\n",
       " 0.9771662763466042,\n",
       " 0.8597379762105276,\n",
       " 0.8580645161290322,\n",
       " 0.8866666666666667,\n",
       " 0.8721311475409836,\n",
       " LogisticRegression(max_iter=500))"
      ]
     },
     "execution_count": 60,
     "metadata": {},
     "output_type": "execute_result"
    }
   ],
   "source": [
    "train_lr(X_train, X_test, y_train, y_test, features='all')"
   ]
  },
  {
   "cell_type": "markdown",
   "metadata": {
    "hidden": true
   },
   "source": [
    "**Random forest:**"
   ]
  },
  {
   "cell_type": "code",
   "execution_count": 61,
   "metadata": {
    "hidden": true
   },
   "outputs": [
    {
     "name": "stdout",
     "output_type": "stream",
     "text": [
      "Training on 1024 features\n",
      "\n"
     ]
    },
    {
     "data": {
      "text/plain": [
       "(0.9922896371227384,\n",
       " 0.9795081967213115,\n",
       " 0.8705086999500459,\n",
       " 0.8193548387096774,\n",
       " 0.9477611940298507,\n",
       " 0.8788927335640139,\n",
       " RandomForestClassifier(bootstrap=False, max_features='log2', n_jobs=-1,\n",
       "                        random_state=100))"
      ]
     },
     "execution_count": 61,
     "metadata": {},
     "output_type": "execute_result"
    }
   ],
   "source": [
    "train_rf(X_train, X_test, y_train, y_test, features='ECFP')"
   ]
  },
  {
   "cell_type": "code",
   "execution_count": 62,
   "metadata": {
    "hidden": true
   },
   "outputs": [
    {
     "name": "stdout",
     "output_type": "stream",
     "text": [
      "Training on 128 features\n",
      "\n"
     ]
    },
    {
     "data": {
      "text/plain": [
       "(0.9770620858691814,\n",
       " 0.9742388758782201,\n",
       " 0.8390791502712486,\n",
       " 0.8193548387096774,\n",
       " 0.8881118881118881,\n",
       " 0.8523489932885905,\n",
       " RandomForestClassifier(bootstrap=False, max_features='log2', n_jobs=-1,\n",
       "                        random_state=100))"
      ]
     },
     "execution_count": 62,
     "metadata": {},
     "output_type": "execute_result"
    }
   ],
   "source": [
    "train_rf(X_train, X_test, y_train, y_test, features='act_')"
   ]
  },
  {
   "cell_type": "code",
   "execution_count": 63,
   "metadata": {
    "hidden": true
   },
   "outputs": [
    {
     "name": "stdout",
     "output_type": "stream",
     "text": [
      "Training on all 1153 ECFP and CNN features\n",
      "\n"
     ]
    },
    {
     "data": {
      "text/plain": [
       "(0.9761107533805538,\n",
       " 0.9754098360655737,\n",
       " 0.8464380197438741,\n",
       " 0.8258064516129032,\n",
       " 0.8951048951048951,\n",
       " 0.8590604026845637,\n",
       " RandomForestClassifier(bootstrap=False, max_features='log2', n_jobs=-1,\n",
       "                        random_state=100))"
      ]
     },
     "execution_count": 63,
     "metadata": {},
     "output_type": "execute_result"
    }
   ],
   "source": [
    "train_rf(X_train, X_test, y_train, y_test, features='all')"
   ]
  }
 ],
 "metadata": {
  "kernelspec": {
   "display_name": "fastai",
   "language": "python",
   "name": "fastai"
  },
  "language_info": {
   "codemirror_mode": {
    "name": "ipython",
    "version": 3
   },
   "file_extension": ".py",
   "mimetype": "text/x-python",
   "name": "python",
   "nbconvert_exporter": "python",
   "pygments_lexer": "ipython3",
   "version": "3.8.8"
  },
  "varInspector": {
   "cols": {
    "lenName": 16,
    "lenType": 16,
    "lenVar": 40
   },
   "kernels_config": {
    "python": {
     "delete_cmd_postfix": "",
     "delete_cmd_prefix": "del ",
     "library": "var_list.py",
     "varRefreshCmd": "print(var_dic_list())"
    },
    "r": {
     "delete_cmd_postfix": ") ",
     "delete_cmd_prefix": "rm(",
     "library": "var_list.r",
     "varRefreshCmd": "cat(var_dic_list()) "
    }
   },
   "types_to_exclude": [
    "module",
    "function",
    "builtin_function_or_method",
    "instance",
    "_Feature"
   ],
   "window_display": false
  }
 },
 "nbformat": 4,
 "nbformat_minor": 4
}
